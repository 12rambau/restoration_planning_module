{
 "cells": [
  {
   "cell_type": "code",
   "execution_count": null,
   "metadata": {},
   "outputs": [],
   "source": [
    "from sepal_ui import sepalwidgets as sw\n",
    "import ipyvuetify as v"
   ]
  },
  {
   "cell_type": "code",
   "execution_count": null,
   "metadata": {
    "scrolled": true
   },
   "outputs": [],
   "source": [
    "tree_position = v.Select(\n",
    "    label = \"Where can trees grow?\",\n",
    "    items = [\n",
    "        \"Croplands\",\n",
    "        \"Shrubland\",\n",
    "        \"Grassland\"\n",
    "    ]\n",
    ")\n",
    "\n",
    "land_use = v.Select(\n",
    "    label = \"Which land uses allow restoration?\",\n",
    "    items = [\n",
    "        \"Agriculture\",\n",
    "        \"Protected Areas\",\n",
    "        \"Rangeland\"\n",
    "    ]\n",
    ")\n",
    "\n",
    "factors = sw.Markdown(\"Which factors restrict restoration activities?\")\n",
    "\n",
    "layers = v.Select(\n",
    "    label = \"Which layers to include in the weighted calculation for prioritization?\",\n",
    "    items = [f\"layer {i}\" for i in range(5)],\n",
    "    multiple = True\n",
    ")\n",
    "\n",
    "id_ = \"manual_widget\"\n",
    "title = \"Manual layer selection\"\n",
    "\n",
    "rp_manual = sw.Tile(\n",
    "    id_, \n",
    "    title,\n",
    "    inputs = [tree_position, land_use, factors, layers]\n",
    ")\n",
    "\n",
    "rp_manual"
   ]
  },
  {
   "cell_type": "code",
   "execution_count": null,
   "metadata": {},
   "outputs": [],
   "source": []
  }
 ],
 "metadata": {
  "kernelspec": {
   "display_name": "Python 3",
   "language": "python",
   "name": "python3"
  },
  "language_info": {
   "codemirror_mode": {
    "name": "ipython",
    "version": 3
   },
   "file_extension": ".py",
   "mimetype": "text/x-python",
   "name": "python",
   "nbconvert_exporter": "python",
   "pygments_lexer": "ipython3",
   "version": "3.6.9"
  }
 },
 "nbformat": 4,
 "nbformat_minor": 4
}
