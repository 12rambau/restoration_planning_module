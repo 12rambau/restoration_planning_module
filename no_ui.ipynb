{
 "cells": [
  {
   "cell_type": "code",
   "execution_count": 1,
   "metadata": {
    "scrolled": false
   },
   "outputs": [
    {
     "data": {
      "application/vnd.jupyter.widget-view+json": {
       "model_id": "e4d337d0e04e4f0da72cf6a7db337802",
       "version_major": 2,
       "version_minor": 0
      },
      "text/plain": [
       "Styles()"
      ]
     },
     "metadata": {},
     "output_type": "display_data"
    },
    {
     "data": {
      "application/vnd.jupyter.widget-view+json": {
       "model_id": "55fb25ca405f4fa6b8efcc848ad0778d",
       "version_major": 2,
       "version_minor": 0
      },
      "text/plain": [
       "ResizeTrigger()"
      ]
     },
     "metadata": {},
     "output_type": "display_data"
    }
   ],
   "source": [
    "#add tiles \n",
    "%run 'aoi_ui.ipynb'\n",
    "%run 'questionnaire_ui.ipynb'\n",
    "%run 'customize_layer_ui.ipynb'\n",
    "%run 'compute_ui.ipynb'"
   ]
  },
  {
   "cell_type": "code",
   "execution_count": 2,
   "metadata": {
    "scrolled": true
   },
   "outputs": [
    {
     "data": {
      "application/vnd.jupyter.widget-view+json": {
       "model_id": "e72775ac149a4fcb9a5f7b41f43b5230",
       "version_major": 2,
       "version_minor": 0
      },
      "text/plain": [
       "TileAoi(align_center=True, children=[Card(children=[Html(children=['AOI selection'], tag='h2'), Flex(children=…"
      ]
     },
     "metadata": {},
     "output_type": "display_data"
    }
   ],
   "source": [
    "rp_aoi"
   ]
  },
  {
   "cell_type": "code",
   "execution_count": 3,
   "metadata": {},
   "outputs": [
    {
     "data": {
      "application/vnd.jupyter.widget-view+json": {
       "model_id": "28f3057fb74848aa8addb5da8fa46b07",
       "version_major": 2,
       "version_minor": 0
      },
      "text/plain": [
       "QuestionnaireTile(align_center=True, children=[Card(children=[Html(children=['Questionnaire Identifying Restor…"
      ]
     },
     "metadata": {},
     "output_type": "display_data"
    }
   ],
   "source": [
    "rp_questionnaire"
   ]
  },
  {
   "cell_type": "code",
   "execution_count": 4,
   "metadata": {},
   "outputs": [
    {
     "data": {
      "text/plain": [
       "{'constraints': '{\"Current forest or ubran landscape\": -1, \"Current tree cover less than potential\": -1, \"Bare land\": -1, \"Shrub land\": -1, \"Agricultural land\": -1, \"Annual rainfall\": -1, \"Water stress\": -1, \"Elevation\": -1, \"Slope\": -1, \"Accessibility to cities\": -1, \"Population\": -1, \"Protected areas\": -1, \"Land opportunity cost\": -1, \"Agriculture\": -1, \"Rangeland\": -1, \"Grassland\": -1, \"Settlements\": -1, \"Deforestation rate\": -1, \"Climate risk\": -1, \"Natural regeneration probability\": -1, \"Declining population\": -1}',\n",
       " 'priorities': '{\"Local livelihoods\": 0, \"Wood production\": 0, \"Non-timber tree benefits\": 0}'}"
      ]
     },
     "execution_count": 4,
     "metadata": {},
     "output_type": "execute_result"
    }
   ],
   "source": [
    "rp_questionaire_io.__dict__"
   ]
  },
  {
   "cell_type": "code",
   "execution_count": 5,
   "metadata": {
    "scrolled": false
   },
   "outputs": [
    {
     "data": {
      "application/vnd.jupyter.widget-view+json": {
       "model_id": "8a4df9a3eb364432b8996a510ce1560a",
       "version_major": 2,
       "version_minor": 0
      },
      "text/plain": [
       "CustomizeLayerTile(align_center=True, children=[Card(children=[Html(children=['Customize layers input'], tag='…"
      ]
     },
     "metadata": {},
     "output_type": "display_data"
    }
   ],
   "source": [
    "rp_layers"
   ]
  },
  {
   "cell_type": "code",
   "execution_count": 6,
   "metadata": {},
   "outputs": [
    {
     "data": {
      "application/vnd.jupyter.widget-view+json": {
       "model_id": "1e1c9c7bfab445b08b47130cf135481c",
       "version_major": 2,
       "version_minor": 0
      },
      "text/plain": [
       "ValidationTile(align_center=True, children=[Card(children=[Html(children=['Model recipe (input benefits, risks…"
      ]
     },
     "metadata": {},
     "output_type": "display_data"
    }
   ],
   "source": [
    "rp_validation"
   ]
  },
  {
   "cell_type": "code",
   "execution_count": 7,
   "metadata": {},
   "outputs": [
    {
     "data": {
      "application/vnd.jupyter.widget-view+json": {
       "model_id": "5ef7def810fc425c9233cfb7459650d2",
       "version_major": 2,
       "version_minor": 0
      },
      "text/plain": [
       "ComputeTile(align_center=True, children=[Card(children=[Html(children=['Launch computation'], tag='h2'), Flex(…"
      ]
     },
     "metadata": {},
     "output_type": "display_data"
    }
   ],
   "source": [
    "rp_compute"
   ]
  },
  {
   "cell_type": "code",
   "execution_count": 8,
   "metadata": {},
   "outputs": [
    {
     "data": {
      "application/vnd.jupyter.widget-view+json": {
       "model_id": "27f36a886e3d4e66a356ae9518666ac4",
       "version_major": 2,
       "version_minor": 0
      },
      "text/plain": [
       "MapTile(align_center=True, children=[Card(children=[Html(children=['Result Map'], tag='h2'), Flex(children=[Ma…"
      ]
     },
     "metadata": {},
     "output_type": "display_data"
    }
   ],
   "source": [
    "rp_map_tile"
   ]
  },
  {
   "cell_type": "code",
   "execution_count": 9,
   "metadata": {},
   "outputs": [
    {
     "data": {
      "application/vnd.jupyter.widget-view+json": {
       "model_id": "a4c351a813b84a7f8d127b306d87ac81",
       "version_major": 2,
       "version_minor": 0
      },
      "text/plain": [
       "DashRegionTile(align_center=True, children=[Card(children=[Html(children=['Summary of Restoration Suitability …"
      ]
     },
     "metadata": {},
     "output_type": "display_data"
    }
   ],
   "source": [
    "rp_regions"
   ]
  },
  {
   "cell_type": "code",
   "execution_count": 10,
   "metadata": {},
   "outputs": [
    {
     "data": {
      "application/vnd.jupyter.widget-view+json": {
       "model_id": "3c28a60519764e70a852c9488166a900",
       "version_major": 2,
       "version_minor": 0
      },
      "text/plain": [
       "DashThemeTile(align_center=True, children=[Card(children=[Html(children=['Area of Interest - Summary By Subthe…"
      ]
     },
     "metadata": {},
     "output_type": "display_data"
    }
   ],
   "source": [
    "rp_theme"
   ]
  }
 ],
 "metadata": {
  "kernelspec": {
   "display_name": "Python 3",
   "language": "python",
   "name": "python3"
  },
  "language_info": {
   "codemirror_mode": {
    "name": "ipython",
    "version": 3
   },
   "file_extension": ".py",
   "mimetype": "text/x-python",
   "name": "python",
   "nbconvert_exporter": "python",
   "pygments_lexer": "ipython3",
   "version": "3.6.9"
  }
 },
 "nbformat": 4,
 "nbformat_minor": 4
}
