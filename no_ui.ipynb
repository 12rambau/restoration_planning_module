{
 "cells": [
  {
   "cell_type": "code",
   "execution_count": 1,
   "metadata": {
    "scrolled": false
   },
   "outputs": [
    {
     "data": {
      "application/vnd.jupyter.widget-view+json": {
       "model_id": "687effdfeee44b9cb5b86c7cf9b16b40",
       "version_major": 2,
       "version_minor": 0
      },
      "text/plain": [
       "Styles()"
      ]
     },
     "metadata": {},
     "output_type": "display_data"
    },
    {
     "data": {
      "application/vnd.jupyter.widget-view+json": {
       "model_id": "fd5c8261b2d74e72aec2c409d6714eb2",
       "version_major": 2,
       "version_minor": 0
      },
      "text/plain": [
       "ResizeTrigger()"
      ]
     },
     "metadata": {},
     "output_type": "display_data"
    }
   ],
   "source": [
    "#add tiles \n",
    "%run 'aoi_ui.ipynb'\n",
    "%run 'questionnaire_ui.ipynb'\n",
    "%run 'customize_layer_ui.ipynb'\n",
    "%run 'compute_ui.ipynb'"
   ]
  },
  {
   "cell_type": "code",
   "execution_count": 2,
   "metadata": {},
   "outputs": [
    {
     "data": {
      "application/vnd.jupyter.widget-view+json": {
       "model_id": "835a1d705f98437babbf1bf297140c3a",
       "version_major": 2,
       "version_minor": 0
      },
      "text/plain": [
       "TileAoi(align_center=True, children=[Card(children=[Html(children=['AOI selection'], tag='h2'), Flex(children=…"
      ]
     },
     "metadata": {},
     "output_type": "display_data"
    }
   ],
   "source": [
    "rp_aoi"
   ]
  },
  {
   "cell_type": "code",
   "execution_count": 3,
   "metadata": {},
   "outputs": [
    {
     "data": {
      "application/vnd.jupyter.widget-view+json": {
       "model_id": "53efb04bc0244618a328dd5478511900",
       "version_major": 2,
       "version_minor": 0
      },
      "text/plain": [
       "QuestionnaireTile(align_center=True, children=[Card(children=[Html(children=['Questionnaire Identifying Restor…"
      ]
     },
     "metadata": {},
     "output_type": "display_data"
    }
   ],
   "source": [
    "rp_questionnaire"
   ]
  },
  {
   "cell_type": "code",
   "execution_count": 4,
   "metadata": {
    "scrolled": false
   },
   "outputs": [
    {
     "data": {
      "application/vnd.jupyter.widget-view+json": {
       "model_id": "36298fa8b4e145fca69811964d0f692c",
       "version_major": 2,
       "version_minor": 0
      },
      "text/plain": [
       "CustomizeLayerTile(align_center=True, children=[Card(children=[Html(children=['Customize layers input'], tag='…"
      ]
     },
     "metadata": {},
     "output_type": "display_data"
    }
   ],
   "source": [
    "rp_layers"
   ]
  },
  {
   "cell_type": "code",
   "execution_count": 5,
   "metadata": {},
   "outputs": [
    {
     "data": {
      "application/vnd.jupyter.widget-view+json": {
       "model_id": "f33086a8784346dfae7d1ab2f93ed99e",
       "version_major": 2,
       "version_minor": 0
      },
      "text/plain": [
       "ValidationTile(align_center=True, children=[Card(children=[Html(children=['Model recipe (input benefits, risks…"
      ]
     },
     "metadata": {},
     "output_type": "display_data"
    }
   ],
   "source": [
    "rp_validation"
   ]
  },
  {
   "cell_type": "code",
   "execution_count": 6,
   "metadata": {},
   "outputs": [
    {
     "data": {
      "application/vnd.jupyter.widget-view+json": {
       "model_id": "a6c14395b6124a31bf1c2f86c0724f2b",
       "version_major": 2,
       "version_minor": 0
      },
      "text/plain": [
       "ComputeTile(align_center=True, children=[Card(children=[Html(children=['Launch computation'], tag='h2'), Flex(…"
      ]
     },
     "metadata": {},
     "output_type": "display_data"
    }
   ],
   "source": [
    "rp_compute"
   ]
  },
  {
   "cell_type": "code",
   "execution_count": 7,
   "metadata": {},
   "outputs": [
    {
     "data": {
      "application/vnd.jupyter.widget-view+json": {
       "model_id": "3a7d2774aaaf4ece926541e768bfd254",
       "version_major": 2,
       "version_minor": 0
      },
      "text/plain": [
       "MapTile(align_center=True, children=[Card(children=[Html(children=['Result Map'], tag='h2'), Flex(children=[Ma…"
      ]
     },
     "metadata": {},
     "output_type": "display_data"
    }
   ],
   "source": [
    "rp_map_tile"
   ]
  },
  {
   "cell_type": "code",
   "execution_count": 8,
   "metadata": {},
   "outputs": [
    {
     "data": {
      "application/vnd.jupyter.widget-view+json": {
       "model_id": "83e30aec0b6442c383d096930e22ad9b",
       "version_major": 2,
       "version_minor": 0
      },
      "text/plain": [
       "DashRegionTile(align_center=True, children=[Card(children=[Html(children=['Area of Interest - Summary By Subth…"
      ]
     },
     "metadata": {},
     "output_type": "display_data"
    }
   ],
   "source": [
    "rp_regions"
   ]
  },
  {
   "cell_type": "code",
   "execution_count": 9,
   "metadata": {},
   "outputs": [
    {
     "data": {
      "application/vnd.jupyter.widget-view+json": {
       "model_id": "b3d132a969dc4dc4841a7df3b6681cb8",
       "version_major": 2,
       "version_minor": 0
      },
      "text/plain": [
       "DashThemeTile(align_center=True, children=[Card(children=[Html(children=['Summary of Restoration Suitability b…"
      ]
     },
     "metadata": {},
     "output_type": "display_data"
    }
   ],
   "source": [
    "rp_theme"
   ]
  },
  {
   "cell_type": "code",
   "execution_count": 11,
   "metadata": {},
   "outputs": [
    {
     "name": "stdout",
     "output_type": "stream",
     "text": [
      "ee.FeatureCollection({\n",
      "  \"functionInvocationValue\": {\n",
      "    \"functionName\": \"Collection.filter\",\n",
      "    \"arguments\": {\n",
      "      \"collection\": {\n",
      "        \"functionInvocationValue\": {\n",
      "          \"functionName\": \"Collection.loadTable\",\n",
      "          \"arguments\": {\n",
      "            \"tableId\": {\n",
      "              \"constantValue\": \"FAO/GAUL/2015/level0\"\n",
      "            }\n",
      "          }\n",
      "        }\n",
      "      },\n",
      "      \"filter\": {\n",
      "        \"functionInvocationValue\": {\n",
      "          \"functionName\": \"Filter.equals\",\n",
      "          \"arguments\": {\n",
      "            \"leftField\": {\n",
      "              \"constantValue\": \"ADM0_CODE\"\n",
      "            },\n",
      "            \"rightValue\": {\n",
      "              \"constantValue\": 222\n",
      "            }\n",
      "          }\n",
      "        }\n",
      "      }\n",
      "    }\n",
      "  }\n",
      "})\n"
     ]
    }
   ],
   "source": [
    "print(rp_aoi.io.get_aoi_ee())"
   ]
  },
  {
   "cell_type": "code",
   "execution_count": null,
   "metadata": {},
   "outputs": [],
   "source": []
  }
 ],
 "metadata": {
  "kernelspec": {
   "display_name": "Python 3",
   "language": "python",
   "name": "python3"
  },
  "language_info": {
   "codemirror_mode": {
    "name": "ipython",
    "version": 3
   },
   "file_extension": ".py",
   "mimetype": "text/x-python",
   "name": "python",
   "nbconvert_exporter": "python",
   "pygments_lexer": "ipython3",
   "version": "3.6.9"
  }
 },
 "nbformat": 4,
 "nbformat_minor": 4
}
