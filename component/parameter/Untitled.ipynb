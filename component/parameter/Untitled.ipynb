{
 "cells": [
  {
   "cell_type": "code",
   "execution_count": 3,
   "id": "35e1d2a9",
   "metadata": {},
   "outputs": [],
   "source": [
    "import ee\n",
    "\n",
    "ee.Initialize()"
   ]
  },
  {
   "cell_type": "code",
   "execution_count": 7,
   "id": "b65eb2c2",
   "metadata": {},
   "outputs": [],
   "source": [
    "geometry = ee.Geometry.Polygon(\n",
    "    [[[-121.52324218749999, 37.901687004454395],\n",
    "      [-121.46831054687499, 37.42335315973017],\n",
    "      [-120.86406249999999, 37.46696534545472],\n",
    "      [-120.89702148437499, 37.98832531444019]]])\n",
    "\n",
    "modis = ee.ImageCollection(\"MODIS/MCD43A4_NDVI\")\n",
    "modis_filtered = modis.filterDate(\"2010-01-01\",\"2010-04-01\").median().clip(geometry)\n",
    "\n",
    "reducer = modis_filtered.reduceRegion(**{\n",
    "    'reducer': ee.Reducer.min(),\n",
    "    'geometry': geometry,\n",
    "    'scale': 250\n",
    "})"
   ]
  },
  {
   "cell_type": "code",
   "execution_count": 9,
   "id": "61a59211",
   "metadata": {},
   "outputs": [
    {
     "data": {
      "text/plain": [
       "{'NDVI': 0.13433486223220825}"
      ]
     },
     "execution_count": 9,
     "metadata": {},
     "output_type": "execute_result"
    }
   ],
   "source": [
    "reducer.getInfo()"
   ]
  },
  {
   "cell_type": "code",
   "execution_count": 10,
   "id": "9e6087e4",
   "metadata": {},
   "outputs": [],
   "source": [
    "a= {\"a\": 5, 'b': 6}"
   ]
  },
  {
   "cell_type": "code",
   "execution_count": 13,
   "id": "0f078b61",
   "metadata": {},
   "outputs": [
    {
     "data": {
      "text/plain": [
       "5"
      ]
     },
     "execution_count": 13,
     "metadata": {},
     "output_type": "execute_result"
    }
   ],
   "source": [
    "list(a.values())[0]"
   ]
  },
  {
   "cell_type": "code",
   "execution_count": null,
   "id": "ae8720aa",
   "metadata": {},
   "outputs": [],
   "source": []
  }
 ],
 "metadata": {
  "kernelspec": {
   "display_name": "Python 3",
   "language": "python",
   "name": "python3"
  },
  "language_info": {
   "codemirror_mode": {
    "name": "ipython",
    "version": 3
   },
   "file_extension": ".py",
   "mimetype": "text/x-python",
   "name": "python",
   "nbconvert_exporter": "python",
   "pygments_lexer": "ipython3",
   "version": "3.6.9"
  }
 },
 "nbformat": 4,
 "nbformat_minor": 5
}
