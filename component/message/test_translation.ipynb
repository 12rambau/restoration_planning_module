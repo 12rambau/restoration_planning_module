{
 "cells": [
  {
   "cell_type": "code",
   "execution_count": 1,
   "id": "further-hunter",
   "metadata": {},
   "outputs": [],
   "source": [
    "from pathlib import Path\n",
    "\n",
    "from sepal_ui.translator import Translator"
   ]
  },
  {
   "cell_type": "code",
   "execution_count": 2,
   "id": "racial-headquarters",
   "metadata": {},
   "outputs": [],
   "source": [
    "# select the language you want to test \n",
    "locale = 'fr'"
   ]
  },
  {
   "cell_type": "code",
   "execution_count": 3,
   "id": "agreed-variance",
   "metadata": {},
   "outputs": [
    {
     "name": "stdout",
     "output_type": "stream",
     "text": [
      "No json file is provided for \"fr\", fallback to \"en\"\n"
     ]
    }
   ],
   "source": [
    "ms = Translator(Path.cwd(), locale)"
   ]
  },
  {
   "cell_type": "code",
   "execution_count": 4,
   "id": "hybrid-dylan",
   "metadata": {},
   "outputs": [
    {
     "name": "stdout",
     "output_type": "stream",
     "text": [
      "All messages are translated\n"
     ]
    }
   ],
   "source": [
    "# normally there is only one key lissing ('not_tranlated')\n",
    "# at the root of the file \n",
    "print(ms.missing_keys())"
   ]
  }
 ],
 "metadata": {
  "kernelspec": {
   "display_name": "Python 3",
   "language": "python",
   "name": "python3"
  },
  "language_info": {
   "codemirror_mode": {
    "name": "ipython",
    "version": 3
   },
   "file_extension": ".py",
   "mimetype": "text/x-python",
   "name": "python",
   "nbconvert_exporter": "python",
   "pygments_lexer": "ipython3",
   "version": "3.6.9"
  }
 },
 "nbformat": 4,
 "nbformat_minor": 5
}
