{
 "cells": [
  {
   "cell_type": "code",
   "execution_count": 4,
   "metadata": {},
   "outputs": [],
   "source": [
    "from scripts.tile import *\n",
    "import ipyvuetify as v \n",
    "import traitlets"
   ]
  },
  {
   "cell_type": "code",
   "execution_count": 7,
   "metadata": {},
   "outputs": [],
   "source": [
    "class MyTable(v.VuetifyTemplate):\n",
    "    headers = traitlets.List([{'text': 'MyData', 'value': 'mydata'},{'text': 'MyField', 'value': 'myfield'}]).tag(sync=True, allow_null=True)\n",
    "    items = traitlets.List([{'mydata': 'Item1'}]).tag(sync=True, allow_null=True)\n",
    "    template = traitlets.Unicode('''\n",
    "        <template>\n",
    "            <v-data-table\n",
    "                :headers=\"headers\"\n",
    "                :items=\"items\"\n",
    "            >\n",
    "                <template #item.myfield=\"{item}\">\n",
    "                    <mywidget />\n",
    "                </template>\n",
    "            </v-data-table>\n",
    "        </template>\n",
    "        ''').tag(sync=True)\n",
    "\n",
    "toto = MyTable(components={'mywidget': v.Slider()})"
   ]
  },
  {
   "cell_type": "code",
   "execution_count": 8,
   "metadata": {},
   "outputs": [
    {
     "data": {
      "text/plain": [
       "__main__.MyTable"
      ]
     },
     "execution_count": 8,
     "metadata": {},
     "output_type": "execute_result"
    }
   ],
   "source": [
    "type(toto)"
   ]
  },
  {
   "cell_type": "code",
   "execution_count": null,
   "metadata": {},
   "outputs": [],
   "source": []
  }
 ],
 "metadata": {
  "kernelspec": {
   "display_name": "Python 3",
   "language": "python",
   "name": "python3"
  },
  "language_info": {
   "codemirror_mode": {
    "name": "ipython",
    "version": 3
   },
   "file_extension": ".py",
   "mimetype": "text/x-python",
   "name": "python",
   "nbconvert_exporter": "python",
   "pygments_lexer": "ipython3",
   "version": "3.6.9"
  }
 },
 "nbformat": 4,
 "nbformat_minor": 4
}
