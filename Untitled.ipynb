{
 "cells": [
  {
   "cell_type": "code",
   "execution_count": 1,
   "id": "cathedral-median",
   "metadata": {},
   "outputs": [
    {
     "data": {
      "application/vnd.jupyter.widget-view+json": {
       "model_id": "01558882adda4d659b10f6c1467b8014",
       "version_major": 2,
       "version_minor": 0
      },
      "text/plain": [
       "Styles()"
      ]
     },
     "metadata": {},
     "output_type": "display_data"
    },
    {
     "data": {
      "application/vnd.jupyter.widget-view+json": {
       "model_id": "396f2c3735514a3a8326bf79a1e92924",
       "version_major": 2,
       "version_minor": 0
      },
      "text/plain": [
       "ResizeTrigger()"
      ]
     },
     "metadata": {},
     "output_type": "display_data"
    }
   ],
   "source": [
    "from component import widget as cw"
   ]
  },
  {
   "cell_type": "code",
   "execution_count": 2,
   "id": "municipal-jimmy",
   "metadata": {},
   "outputs": [],
   "source": [
    "#toto = cw.AreaSumUp('toto', [20,20,30,40,10,70], 100)\n",
    "#toto"
   ]
  },
  {
   "cell_type": "code",
   "execution_count": 5,
   "id": "sweet-priority",
   "metadata": {},
   "outputs": [
    {
     "data": {
      "application/vnd.jupyter.widget-view+json": {
       "model_id": "224a369543e5482e9164e10e6c5febdc",
       "version_major": 2,
       "version_minor": 0
      },
      "text/plain": [
       "LayerFull(children=[Flex(children=[Html(children=['slope'], tag='h3')], xs12=True), Flex(children=[SimpleTable…"
      ]
     },
     "metadata": {},
     "output_type": "display_data"
    }
   ],
   "source": [
    "from component import parameter as cp\n",
    "import pandas as pd\n",
    "\n",
    "cw.LayerFull('slope', [10, 0, 53, 0, 0])"
   ]
  },
  {
   "cell_type": "code",
   "execution_count": null,
   "id": "unique-printing",
   "metadata": {},
   "outputs": [],
   "source": []
  }
 ],
 "metadata": {
  "kernelspec": {
   "display_name": "Python 3",
   "language": "python",
   "name": "python3"
  },
  "language_info": {
   "codemirror_mode": {
    "name": "ipython",
    "version": 3
   },
   "file_extension": ".py",
   "mimetype": "text/x-python",
   "name": "python",
   "nbconvert_exporter": "python",
   "pygments_lexer": "ipython3",
   "version": "3.6.9"
  }
 },
 "nbformat": 4,
 "nbformat_minor": 5
}
