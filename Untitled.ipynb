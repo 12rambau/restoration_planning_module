{
 "cells": [
  {
   "cell_type": "code",
   "execution_count": 1,
   "id": "administrative-bridge",
   "metadata": {},
   "outputs": [
    {
     "data": {
      "application/vnd.jupyter.widget-view+json": {
       "model_id": "9f606bced4984ac29b156872dc5251c2",
       "version_major": 2,
       "version_minor": 0
      },
      "text/plain": [
       "Styles()"
      ]
     },
     "metadata": {},
     "output_type": "display_data"
    },
    {
     "data": {
      "application/vnd.jupyter.widget-view+json": {
       "model_id": "1a24e1ef141d4a77aede1d3c2509e048",
       "version_major": 2,
       "version_minor": 0
      },
      "text/plain": [
       "ResizeTrigger()"
      ]
     },
     "metadata": {},
     "output_type": "display_data"
    }
   ],
   "source": [
    "from component import widget as cw"
   ]
  },
  {
   "cell_type": "code",
   "execution_count": 2,
   "id": "patent-quarter",
   "metadata": {},
   "outputs": [
    {
     "data": {
      "application/vnd.jupyter.widget-view+json": {
       "model_id": "c522b400171148978c19d13f02707dea",
       "version_major": 2,
       "version_minor": 0
      },
      "text/plain": [
       "AreaSumUp(children=[Flex(children=[Html(children=['toto'], class_='mb-2', tag='h2')], xs12=True), Flex(childre…"
      ]
     },
     "metadata": {},
     "output_type": "display_data"
    }
   ],
   "source": [
    "toto = cw.AreaSumUp('toto', [20,20,30,40,10,70], 100)\n",
    "toto"
   ]
  },
  {
   "cell_type": "code",
   "execution_count": 3,
   "id": "willing-watson",
   "metadata": {},
   "outputs": [
    {
     "data": {
      "application/vnd.jupyter.widget-view+json": {
       "model_id": "08a6bc2fb85a4dca9aa441ae9c038583",
       "version_major": 2,
       "version_minor": 0
      },
      "text/plain": [
       "LayerFull(children=[Flex(children=[Html(children=['slope'], class_='mt-2 mb-2', tag='h3')], xs12=True), Flex(c…"
      ]
     },
     "metadata": {},
     "output_type": "display_data"
    }
   ],
   "source": [
    "from component import parameter as cp\n",
    "import pandas as pd\n",
    "\n",
    "tutu = cw.LayerFull('slope', [10, 0, 53, 0, 0])\n",
    "tutu"
   ]
  },
  {
   "cell_type": "code",
   "execution_count": 6,
   "id": "imported-consumption",
   "metadata": {},
   "outputs": [
    {
     "data": {
      "application/vnd.jupyter.widget-view+json": {
       "model_id": "34a81274c7dc4b1fb1b72e1034cb114c",
       "version_major": 2,
       "version_minor": 0
      },
      "text/plain": [
       "layerPercentage(children=[Flex(children=[Html(children=['slope'], tag='h4'), Html(children=['10%'], class_='ml…"
      ]
     },
     "metadata": {},
     "output_type": "display_data"
    }
   ],
   "source": [
    "cw.layerPercentage('slope', [10, 0, 53, 0, 0])"
   ]
  },
  {
   "cell_type": "code",
   "execution_count": null,
   "id": "dangerous-crime",
   "metadata": {},
   "outputs": [],
   "source": []
  }
 ],
 "metadata": {
  "kernelspec": {
   "display_name": "Python 3",
   "language": "python",
   "name": "python3"
  },
  "language_info": {
   "codemirror_mode": {
    "name": "ipython",
    "version": 3
   },
   "file_extension": ".py",
   "mimetype": "text/x-python",
   "name": "python",
   "nbconvert_exporter": "python",
   "pygments_lexer": "ipython3",
   "version": "3.6.9"
  }
 },
 "nbformat": 4,
 "nbformat_minor": 5
}
