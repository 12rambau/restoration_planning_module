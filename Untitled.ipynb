{
 "cells": [
  {
   "cell_type": "code",
   "execution_count": 1,
   "id": "right-values",
   "metadata": {},
   "outputs": [
    {
     "data": {
      "application/vnd.jupyter.widget-view+json": {
       "model_id": "752fdf740d7441198f0a91530486f666",
       "version_major": 2,
       "version_minor": 0
      },
      "text/plain": [
       "Styles()"
      ]
     },
     "metadata": {},
     "output_type": "display_data"
    },
    {
     "data": {
      "application/vnd.jupyter.widget-view+json": {
       "model_id": "6a3abcf97a3b48c28ba8c8f477de952d",
       "version_major": 2,
       "version_minor": 0
      },
      "text/plain": [
       "ResizeTrigger()"
      ]
     },
     "metadata": {},
     "output_type": "display_data"
    }
   ],
   "source": [
    "from component import widget as cw"
   ]
  },
  {
   "cell_type": "code",
   "execution_count": 2,
   "id": "streaming-scholar",
   "metadata": {},
   "outputs": [
    {
     "data": {
      "application/vnd.jupyter.widget-view+json": {
       "model_id": "98ebc470e5b942fbacafe01027be3d5c",
       "version_major": 2,
       "version_minor": 0
      },
      "text/plain": [
       "AreaSumUp(children=[Flex(children=[Html(children=['toto'], class_='mb-2', tag='h2')], xs12=True), Flex(childre…"
      ]
     },
     "metadata": {},
     "output_type": "display_data"
    }
   ],
   "source": [
    "toto = cw.AreaSumUp('toto', [20,20,30,40,10,70], 100)\n",
    "toto"
   ]
  },
  {
   "cell_type": "code",
   "execution_count": 3,
   "id": "finnish-lounge",
   "metadata": {},
   "outputs": [
    {
     "data": {
      "application/vnd.jupyter.widget-view+json": {
       "model_id": "8ec6d34f2c274402a3b8cfb2672d31e0",
       "version_major": 2,
       "version_minor": 0
      },
      "text/plain": [
       "LayerFull(children=[Flex(children=[Html(children=['slope'], class_='mt-2 mb-2', tag='h3')], xs12=True), Flex(c…"
      ]
     },
     "metadata": {},
     "output_type": "display_data"
    }
   ],
   "source": [
    "from component import parameter as cp\n",
    "import pandas as pd\n",
    "\n",
    "cw.LayerFull('slope', [10, 0, 53, 0, 0])"
   ]
  },
  {
   "cell_type": "code",
   "execution_count": null,
   "id": "printable-runner",
   "metadata": {},
   "outputs": [],
   "source": []
  }
 ],
 "metadata": {
  "kernelspec": {
   "display_name": "Python 3",
   "language": "python",
   "name": "python3"
  },
  "language_info": {
   "codemirror_mode": {
    "name": "ipython",
    "version": 3
   },
   "file_extension": ".py",
   "mimetype": "text/x-python",
   "name": "python",
   "nbconvert_exporter": "python",
   "pygments_lexer": "ipython3",
   "version": "3.6.9"
  }
 },
 "nbformat": 4,
 "nbformat_minor": 5
}
