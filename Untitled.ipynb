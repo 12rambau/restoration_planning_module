{
 "cells": [
  {
   "cell_type": "code",
   "execution_count": 70,
   "id": "north-vitamin",
   "metadata": {},
   "outputs": [
    {
     "data": {
      "application/vnd.jupyter.widget-view+json": {
       "model_id": "8221d3de4f69470b82335ad0adfe55c8",
       "version_major": 2,
       "version_minor": 0
      },
      "text/plain": [
       "Icon(children=['mdi-numeric-0-circle'], color='#FD7070')"
      ]
     },
     "metadata": {},
     "output_type": "display_data"
    }
   ],
   "source": [
    "import ipyvuetify as v \n",
    "\n",
    "from component import parameter as cp\n",
    "\n",
    "v.Icon(\n",
    "    color = cp.colors[int(0*7/5)], # the color have 7 values and there are only 5 weight \n",
    "    children=[f\"mdi-numeric-{0}-circle\"]\n",
    ")"
   ]
  },
  {
   "cell_type": "code",
   "execution_count": 72,
   "id": "aware-reader",
   "metadata": {},
   "outputs": [
    {
     "data": {
      "application/vnd.jupyter.widget-view+json": {
       "model_id": "7c0325ef85b245db80f1734c08650140",
       "version_major": 2,
       "version_minor": 0
      },
      "text/plain": [
       "TextField(v_slots=[{'name': 'append', 'children': Icon(children=['mdi-numeric-0-circle'])}])"
      ]
     },
     "metadata": {},
     "output_type": "display_data"
    }
   ],
   "source": [
    "v.TextField(\n",
    "    v_slots = [{\n",
    "        'name': 'append',\n",
    "        'children': v.Icon(children=[f\"mdi-numeric-{0}-circle\"])\n",
    "    }]\n",
    ")"
   ]
  },
  {
   "cell_type": "code",
   "execution_count": null,
   "id": "scenic-special",
   "metadata": {},
   "outputs": [],
   "source": []
  }
 ],
 "metadata": {
  "kernelspec": {
   "display_name": "Python 3",
   "language": "python",
   "name": "python3"
  },
  "language_info": {
   "codemirror_mode": {
    "name": "ipython",
    "version": 3
   },
   "file_extension": ".py",
   "mimetype": "text/x-python",
   "name": "python",
   "nbconvert_exporter": "python",
   "pygments_lexer": "ipython3",
   "version": "3.6.9"
  }
 },
 "nbformat": 4,
 "nbformat_minor": 5
}
