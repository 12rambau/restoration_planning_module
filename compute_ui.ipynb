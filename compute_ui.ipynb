{
 "cells": [
  {
   "cell_type": "code",
   "execution_count": null,
   "metadata": {},
   "outputs": [],
   "source": [
    "from sepal_ui import sepalwidgets as sw\n",
    "from sepal_ui import mapping as sm\n",
    "import ipyvuetify as v\n",
    "from fra import functions\n",
    "import ee\n",
    "ee.Initialize()"
   ]
  },
  {
   "cell_type": "code",
   "execution_count": null,
   "metadata": {},
   "outputs": [],
   "source": [
    "id_ = \"compute_widget\"\n",
    "title = \"Select your inputs\"\n",
    "\n",
    "validation_btn = sw.Btn(\"Validate your data\")\n",
    "validation_output = sw.Alert()\n",
    "\n",
    "rp_validation = sw.Tile(id_, title, [''], btn=validation_btn , output = validation_output)"
   ]
  },
  {
   "cell_type": "code",
   "execution_count": null,
   "metadata": {},
   "outputs": [],
   "source": [
    "id_ = \"compute_widget\"\n",
    "compute_btn = sw.Btn(\"Launch computation\", disabled = True)\n",
    "\n",
    "compute_txt = sw.Markdown(\"**The launch button will be available after you check the input data in order to avoid wrong computations**\")\n",
    "\n",
    "rp_compute = sw.Tile(id_, '', [compute_txt], btn = compute_btn)"
   ]
  },
  {
   "cell_type": "code",
   "execution_count": null,
   "metadata": {},
   "outputs": [],
   "source": [
    "id_ = \"dashboard_widget\"\n",
    "title = \"Restoration dashboard\"\n",
    "\n",
    "rp_dashboard = sw.Tile(id_, title, [''])"
   ]
  },
  {
   "cell_type": "code",
   "execution_count": null,
   "metadata": {},
   "outputs": [],
   "source": [
    "id_ = \"map_widget\"\n",
    "title = \"Result Map\"\n",
    "\n",
    "rp_result_map = sm.SepalMap(['CartoDB.Positron'])\n",
    "\n",
    "rp_map_tile = sw.Tile(id_, title, [rp_result_map])"
   ]
  },
  {
   "cell_type": "code",
   "execution_count": null,
   "metadata": {},
   "outputs": [],
   "source": [
    "from functools import partial\n",
    "from scripts.compute import *\n",
    "from scripts.default_layer_io import default_layer_io\n",
    "\n",
    "def on_click (widget, data, event, output, compute_btn):\n",
    "    \n",
    "    widget.toggle_loading()\n",
    "    \n",
    "    # watch the inputs\n",
    "    default_aoi_io = aoi.Aoi_io()\n",
    "    default_aoi_io.assetId = 'users/bornToBeAlive/aoi_Ghana'\n",
    "    sum_up(default_aoi_io, default_layer_io, output) # we will use the real on in prod\n",
    "    \n",
    "    # free the computation btn\n",
    "    compute_btn.disabled = False\n",
    "    \n",
    "    widget.toggle_loading()\n",
    "\n",
    "    \n",
    "validation_btn.on_event('click', partial(\n",
    "    on_click,\n",
    "    output = validation_output,\n",
    "    compute_btn = compute_btn\n",
    "))"
   ]
  },
  {
   "cell_type": "code",
   "execution_count": null,
   "metadata": {},
   "outputs": [],
   "source": [
    "from scripts.default_layer_io import default_layer_io\n",
    "from scripts.compute import *\n",
    "from sepal_ui import aoi\n",
    "\n",
    "def on_run_comp(widget, _, __):\n",
    "    \n",
    "    widget.toggle_loading()\n",
    "    \n",
    "    # create a layer and a dashboard \n",
    "    layer, dashboard = compute_layers(default_layer_io) # in prod we will use rp_layers_io\n",
    "    \n",
    "    #display the layer in the map\n",
    "    default_aoi_io = aoi.Aoi_io()\n",
    "    default_aoi_io.assetId = 'users/bornToBeAlive/aoi_Ghana'\n",
    "    display_layer(layer, default_aoi_io, rp_result_map) # we will use rp_aoi_io in prod\n",
    "    \n",
    "    # display the dashboard \n",
    "    rp_dashboard.set_content([dashboard])\n",
    "    \n",
    "    widget.toggle_loading()\n",
    "\n",
    "#def on_run_comp(widget,event, data):\n",
    "#    setattr(compute_io,'aoi_content', aoi_content)\n",
    "#    compute_io.get_params()\n",
    "#    model_ranks, ranks, constraints, selected_priorities = compute_io.current_params\n",
    "#    region = rp_aoi_io.assetId\n",
    "#    inverselist = ee.List(['population_count'])\n",
    "#    wlcimg = functions.wlc(model_ranks,inverselist,region)\n",
    "#    wlcvis =  {'min':0,'max':sum(model_ranks),\"palette\":[\"de1414\",\"ff9425\",\"fcff21\",\"21eb09\",\"01b328\"]}\n",
    "#    rp_result_map.addLayer(wlcimg.clip(ee.FeatureCollection(region)), wlcvis, 'wlc - I dont thinkg this will work...')\n",
    "\n",
    "compute_btn.on_event('click', on_run_comp)"
   ]
  },
  {
   "cell_type": "code",
   "execution_count": null,
   "metadata": {},
   "outputs": [],
   "source": [
    "rp_validation"
   ]
  },
  {
   "cell_type": "code",
   "execution_count": null,
   "metadata": {},
   "outputs": [],
   "source": [
    "rp_compute"
   ]
  },
  {
   "cell_type": "code",
   "execution_count": null,
   "metadata": {},
   "outputs": [],
   "source": [
    "rp_map_tile"
   ]
  },
  {
   "cell_type": "code",
   "execution_count": null,
   "metadata": {},
   "outputs": [],
   "source": [
    "rp_dashboard"
   ]
  },
  {
   "cell_type": "code",
   "execution_count": null,
   "metadata": {},
   "outputs": [],
   "source": []
  },
  {
   "cell_type": "code",
   "execution_count": null,
   "metadata": {},
   "outputs": [],
   "source": []
  }
 ],
 "metadata": {
  "kernelspec": {
   "display_name": "Python 3",
   "language": "python",
   "name": "python3"
  },
  "language_info": {
   "codemirror_mode": {
    "name": "ipython",
    "version": 3
   },
   "file_extension": ".py",
   "mimetype": "text/x-python",
   "name": "python",
   "nbconvert_exporter": "python",
   "pygments_lexer": "ipython3",
   "version": "3.6.9"
  }
 },
 "nbformat": 4,
 "nbformat_minor": 4
}
