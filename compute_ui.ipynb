{
 "cells": [
  {
   "cell_type": "code",
   "execution_count": 1,
   "metadata": {},
   "outputs": [
    {
     "data": {
      "application/vnd.jupyter.widget-view+json": {
       "model_id": "769e5c5edc764ec196e51f9618c5a7e2",
       "version_major": 2,
       "version_minor": 0
      },
      "text/plain": [
       "HTML(value='\\n<style>\\n.leaflet-pane {\\n    z-index : 2 !important;\\n}\\n.leaflet-top, .leaflet-bottom {\\n    z…"
      ]
     },
     "metadata": {},
     "output_type": "display_data"
    },
    {
     "data": {
      "application/vnd.jupyter.widget-view+json": {
       "model_id": "c3f0322b660d45d9adddf10758925710",
       "version_major": 2,
       "version_minor": 0
      },
      "text/plain": [
       "ResizeTrigger()"
      ]
     },
     "metadata": {},
     "output_type": "display_data"
    }
   ],
   "source": [
    "from component import io \n",
    "from component import tile"
   ]
  },
  {
   "cell_type": "code",
   "execution_count": 2,
   "metadata": {},
   "outputs": [],
   "source": [
    "# debug \n",
    "from sepal_ui import aoi\n",
    "\n",
    "rp_layers_io = io.default_layer_io\n",
    "rp_aoi_io = aoi.Aoi_io(default_asset='users/bornToBeAlive/aoi_sandan')\n",
    "rp_questionaire_io = io.questionnaire_io.default_questionnaire_io\n",
    "#rp_layers_io.__dict__"
   ]
  },
  {
   "cell_type": "code",
   "execution_count": 3,
   "metadata": {},
   "outputs": [],
   "source": [
    "rp_dashboard = tile.DashboardTile()"
   ]
  },
  {
   "cell_type": "code",
   "execution_count": 4,
   "metadata": {},
   "outputs": [],
   "source": [
    "rp_map_tile = tile.MapTile()"
   ]
  },
  {
   "cell_type": "code",
   "execution_count": 5,
   "metadata": {},
   "outputs": [],
   "source": [
    "rp_compute = tile.ComputeTile(rp_layers_io, rp_aoi_io, rp_map_tile.m, rp_dashboard, rp_questionaire_io)"
   ]
  },
  {
   "cell_type": "code",
   "execution_count": 6,
   "metadata": {},
   "outputs": [
    {
     "name": "stdout",
     "output_type": "stream",
     "text": [
      "user/myprofile/aFalseAsset\n",
      "user/myprofile/aFalseAsset\n",
      "projects/john-ee-282116/assets/fao-restoration/features/national_NetImportsPC\n",
      "projects/john-ee-282116/assets/fao-restoration/features/national_NetImportsPC\n",
      "projects/john-ee-282116/assets/fao-restoration/features/yields-4326\n",
      "projects/john-ee-282116/assets/fao-restoration/features/yields-4326\n",
      "Oxford/MAP/accessibility_to_cities_2015_v1_0\n",
      "Oxford/MAP/accessibility_to_cities_2015_v1_0\n",
      "user/myprofile/aFalseAsset\n",
      "user/myprofile/aFalseAsset\n",
      "projects/john-ee-282116/assets/fao-restoration/features/young_forest_sequestration_rate_Griscom_extent\n",
      "projects/john-ee-282116/assets/fao-restoration/features/young_forest_sequestration_rate_Griscom_extent\n",
      "projects/john-ee-282116/assets/fao-restoration/features/ibii-4326\n",
      "projects/john-ee-282116/assets/fao-restoration/features/ibii-4326\n",
      "projects/john-ee-282116/assets/fao-restoration/features/terra-bio-div-image\n",
      "projects/john-ee-282116/assets/fao-restoration/features/terra-bio-div-image\n",
      "user/myprofile/aFalseAsset\n",
      "user/myprofile/aFalseAsset\n",
      "user/myprofile/aFalseAsset\n",
      "user/myprofile/aFalseAsset\n",
      "user/myprofile/aFalseAsset\n",
      "user/myprofile/aFalseAsset\n",
      "user/myprofile/aFalseAsset\n",
      "user/myprofile/aFalseAsset\n",
      "user/myprofile/aFalseAsset\n",
      "user/myprofile/aFalseAsset\n",
      "user/myprofile/aFalseAsset\n",
      "user/myprofile/aFalseAsset\n",
      "WCMC/WDPA/current/polygons\n",
      "WCMC/WDPA/current/polygons\n",
      "user/myprofile/aFalseAsset\n",
      "user/myprofile/aFalseAsset\n",
      "CGIAR/SRTM90_V4\n",
      "CGIAR/SRTM90_V4\n",
      "user/myprofile/aFalseAsset\n",
      "user/myprofile/aFalseAsset\n",
      "user/myprofile/aFalseAsset\n",
      "user/myprofile/aFalseAsset\n",
      "projects/john-ee-282116/assets/fao-restoration/features/pasture_opp_image\n",
      "projects/john-ee-282116/assets/fao-restoration/features/pasture_opp_image\n",
      "user/myprofile/aFalseAsset\n",
      "user/myprofile/aFalseAsset\n",
      "projects/john-ee-282116/assets/fao-restoration/features/Regeneration \n",
      "projects/john-ee-282116/assets/fao-restoration/features/Regeneration \n",
      "projects/john-ee-282116/assets/fao-restoration/features/population_decline_masked\n",
      "projects/john-ee-282116/assets/fao-restoration/features/population_decline_masked\n",
      "user/myprofile/aFalseAsset\n",
      "user/myprofile/aFalseAsset\n",
      "user/myprofile/aFalseAsset\n",
      "user/myprofile/aFalseAsset\n",
      "user/myprofile/aFalseAsset\n",
      "user/myprofile/aFalseAsset\n",
      "projects/john-ee-282116/assets/fao-restoration/features/national_RealInterestRate\n",
      "projects/john-ee-282116/assets/fao-restoration/features/national_RealInterestRate\n",
      "projects/john-ee-282116/assets/fao-restoration/features/national_RiskPremium\n",
      "projects/john-ee-282116/assets/fao-restoration/features/national_RiskPremium\n",
      "projects/john-ee-282116/assets/fao-restoration/features/national_Governance_PC1\n",
      "projects/john-ee-282116/assets/fao-restoration/features/national_Governance_PC1\n",
      "user/myprofile/aFalseAsset\n",
      "user/myprofile/aFalseAsset\n",
      "projects/john-ee-282116/assets/fao-restoration/features/national_OtherPropertySecure\n",
      "projects/john-ee-282116/assets/fao-restoration/features/national_OtherPropertySecure\n",
      "projects/john-ee-282116/assets/fao-restoration/features/national_IP_LC\n",
      "projects/john-ee-282116/assets/fao-restoration/features/national_IP_LC\n",
      "projects/john-ee-282116/assets/fao-restoration/features/DeforestRate\n",
      "projects/john-ee-282116/assets/fao-restoration/features/DeforestRate\n",
      "projects/john-ee-282116/assets/fao-restoration/features/future_risk\n",
      "projects/john-ee-282116/assets/fao-restoration/features/future_risk\n",
      "user/myprofile/aFalseAsset\n",
      "user/myprofile/aFalseAsset\n",
      "user/myprofile/aFalseAsset\n",
      "user/myprofile/aFalseAsset\n"
     ]
    }
   ],
   "source": [
    "rp_validation = tile.ValidationTile(rp_layers_io, rp_aoi_io, rp_compute)"
   ]
  },
  {
   "cell_type": "code",
   "execution_count": 7,
   "metadata": {
    "scrolled": false
   },
   "outputs": [
    {
     "data": {
      "application/vnd.jupyter.widget-view+json": {
       "model_id": "45eb7e9b6f2140ef80fe1acdcfa91171",
       "version_major": 2,
       "version_minor": 0
      },
      "text/plain": [
       "ValidationTile(align_center=True, children=[Card(children=[Html(children=['Model recipe (input benefits, risks…"
      ]
     },
     "metadata": {},
     "output_type": "display_data"
    },
    {
     "name": "stdout",
     "output_type": "stream",
     "text": [
      "user/myprofile/aFalseAsset\n",
      "user/custom/Layer0\n",
      "projects/john-ee-282116/assets/fao-restoration/features/national_NetImportsPC\n",
      "user/custom/Layer1\n",
      "projects/john-ee-282116/assets/fao-restoration/features/yields-4326\n",
      "user/custom/Layer2\n",
      "Oxford/MAP/accessibility_to_cities_2015_v1_0\n",
      "Oxford/MAP/accessibility_to_cities_2015_v1_0\n",
      "user/myprofile/aFalseAsset\n",
      "user/custom/Layer4\n",
      "projects/john-ee-282116/assets/fao-restoration/features/young_forest_sequestration_rate_Griscom_extent\n",
      "user/custom/Layer5\n",
      "projects/john-ee-282116/assets/fao-restoration/features/ibii-4326\n",
      "projects/john-ee-282116/assets/fao-restoration/features/ibii-4326\n",
      "projects/john-ee-282116/assets/fao-restoration/features/terra-bio-div-image\n",
      "user/custom/Layer7\n",
      "user/myprofile/aFalseAsset\n",
      "user/myprofile/aFalseAsset\n",
      "user/myprofile/aFalseAsset\n",
      "user/myprofile/aFalseAsset\n",
      "user/myprofile/aFalseAsset\n",
      "user/myprofile/aFalseAsset\n",
      "user/myprofile/aFalseAsset\n",
      "user/myprofile/aFalseAsset\n",
      "user/myprofile/aFalseAsset\n",
      "user/myprofile/aFalseAsset\n",
      "user/myprofile/aFalseAsset\n",
      "user/myprofile/aFalseAsset\n",
      "WCMC/WDPA/current/polygons\n",
      "user/custom/Layer14\n",
      "user/myprofile/aFalseAsset\n",
      "user/myprofile/aFalseAsset\n",
      "CGIAR/SRTM90_V4\n",
      "user/custom/Layer16\n",
      "user/myprofile/aFalseAsset\n",
      "user/custom/Layer17\n",
      "user/myprofile/aFalseAsset\n",
      "user/custom/Layer18\n",
      "projects/john-ee-282116/assets/fao-restoration/features/pasture_opp_image\n",
      "user/custom/Layer19\n",
      "user/myprofile/aFalseAsset\n",
      "user/myprofile/aFalseAsset\n",
      "projects/john-ee-282116/assets/fao-restoration/features/Regeneration \n",
      "user/custom/Layer21\n",
      "projects/john-ee-282116/assets/fao-restoration/features/population_decline_masked\n",
      "projects/john-ee-282116/assets/fao-restoration/features/population_decline_masked\n",
      "user/myprofile/aFalseAsset\n",
      "user/myprofile/aFalseAsset\n",
      "user/myprofile/aFalseAsset\n",
      "user/myprofile/aFalseAsset\n",
      "user/myprofile/aFalseAsset\n",
      "user/custom/Layer35\n",
      "projects/john-ee-282116/assets/fao-restoration/features/national_RealInterestRate\n",
      "user/custom/Layer25\n",
      "projects/john-ee-282116/assets/fao-restoration/features/national_RiskPremium\n",
      "user/custom/Layer26\n",
      "projects/john-ee-282116/assets/fao-restoration/features/national_Governance_PC1\n",
      "user/custom/Layer27\n",
      "user/myprofile/aFalseAsset\n",
      "user/custom/Layer28\n",
      "projects/john-ee-282116/assets/fao-restoration/features/national_OtherPropertySecure\n",
      "projects/john-ee-282116/assets/fao-restoration/features/national_OtherPropertySecure\n",
      "projects/john-ee-282116/assets/fao-restoration/features/national_IP_LC\n",
      "user/custom/Layer30\n",
      "projects/john-ee-282116/assets/fao-restoration/features/DeforestRate\n",
      "projects/john-ee-282116/assets/fao-restoration/features/DeforestRate\n",
      "projects/john-ee-282116/assets/fao-restoration/features/future_risk\n",
      "user/custom/Layer32\n",
      "user/myprofile/aFalseAsset\n",
      "user/custom/Layer33\n",
      "user/myprofile/aFalseAsset\n",
      "user/myprofile/aFalseAsset\n"
     ]
    }
   ],
   "source": [
    "rp_validation"
   ]
  },
  {
   "cell_type": "code",
   "execution_count": 8,
   "metadata": {},
   "outputs": [
    {
     "data": {
      "application/vnd.jupyter.widget-view+json": {
       "model_id": "c96079c8021742c389562b6ed5e074be",
       "version_major": 2,
       "version_minor": 0
      },
      "text/plain": [
       "ComputeTile(align_center=True, children=[Card(children=[Html(children=['Launch computation'], tag='h2'), Flex(…"
      ]
     },
     "metadata": {},
     "output_type": "display_data"
    }
   ],
   "source": [
    "rp_compute"
   ]
  },
  {
   "cell_type": "code",
   "execution_count": 9,
   "metadata": {},
   "outputs": [
    {
     "data": {
      "application/vnd.jupyter.widget-view+json": {
       "model_id": "3597c2746d8d41d090c33f0e36cf4c4c",
       "version_major": 2,
       "version_minor": 0
      },
      "text/plain": [
       "MapTile(align_center=True, children=[Card(children=[Html(children=['Result Map'], tag='h2'), Flex(children=[Ma…"
      ]
     },
     "metadata": {},
     "output_type": "display_data"
    }
   ],
   "source": [
    "rp_map_tile"
   ]
  },
  {
   "cell_type": "code",
   "execution_count": 10,
   "metadata": {},
   "outputs": [
    {
     "data": {
      "application/vnd.jupyter.widget-view+json": {
       "model_id": "6ba3df0f47a84deaababa50806ee48c9",
       "version_major": 2,
       "version_minor": 0
      },
      "text/plain": [
       "DashboardTile(align_center=True, children=[Card(children=[Html(children=['Restoration dashboard'], tag='h2'), …"
      ]
     },
     "metadata": {},
     "output_type": "display_data"
    }
   ],
   "source": [
    "rp_dashboard"
   ]
  },
  {
   "cell_type": "code",
   "execution_count": 11,
   "metadata": {},
   "outputs": [
    {
     "data": {
      "text/plain": [
       "{'layer_list': [{'name': 'Fuelwood consumption',\n",
       "   'layer': 'user/custom/Layer0',\n",
       "   'weight': 0,\n",
       "   'theme': 'benefits',\n",
       "   'subtheme': 'wood production'},\n",
       "  {'name': 'Net imports of forest products',\n",
       "   'layer': 'user/custom/Layer1',\n",
       "   'weight': 0,\n",
       "   'theme': 'benefits',\n",
       "   'subtheme': 'wood production'},\n",
       "  {'name': 'Woody biomass plantation growth rates',\n",
       "   'layer': 'user/custom/Layer2',\n",
       "   'weight': 0,\n",
       "   'theme': 'benefits',\n",
       "   'subtheme': 'wood production'},\n",
       "  {'name': 'Accessibility to major cities',\n",
       "   'layer': 'Oxford/MAP/accessibility_to_cities_2015_v1_0',\n",
       "   'weight': 3,\n",
       "   'theme': 'benefits',\n",
       "   'subtheme': 'wood production'},\n",
       "  {'name': 'Forest employment per ha of forest',\n",
       "   'layer': 'user/custom/Layer4',\n",
       "   'weight': 1,\n",
       "   'theme': 'benefits',\n",
       "   'subtheme': 'wood production'},\n",
       "  {'name': 'Aboveground carbon accumulation from natural regeneration ',\n",
       "   'layer': 'user/custom/Layer5',\n",
       "   'weight': 5,\n",
       "   'theme': 'benefits',\n",
       "   'subtheme': 'non-timber'},\n",
       "  {'name': '100 - Biodiversity Intactness Index (BII)',\n",
       "   'layer': 'projects/john-ee-282116/assets/fao-restoration/features/ibii-4326',\n",
       "   'weight': 4,\n",
       "   'theme': 'benefits',\n",
       "   'subtheme': 'non-timber'},\n",
       "  {'name': 'Endangered and critically endangered species',\n",
       "   'layer': 'user/custom/Layer7',\n",
       "   'weight': 3,\n",
       "   'theme': 'benefits',\n",
       "   'subtheme': 'non-timber'},\n",
       "  {'name': 'Improved access to fuelwood for consumption by farmers - charcoal consumption for fuel and energy',\n",
       "   'layer': 'user/myprofile/aFalseAsset',\n",
       "   'weight': 4,\n",
       "   'theme': 'benefits',\n",
       "   'subtheme': 'Supporting livelihoods of local people'},\n",
       "  {'name': 'erosion prevention on steep slopes',\n",
       "   'layer': 'user/myprofile/aFalseAsset',\n",
       "   'weight': 5,\n",
       "   'theme': 'benefits',\n",
       "   'subtheme': 'Supporting livelihoods of local people (lowland agriculture)'},\n",
       "  {'name': 'targeted on degraded water towers which are sources of water for communities, livestock and wildlife (tourism backbone) downstream.',\n",
       "   'layer': 'user/myprofile/aFalseAsset',\n",
       "   'weight': 2,\n",
       "   'theme': 'benefits',\n",
       "   'subtheme': 'water quality'},\n",
       "  {'name': 'restoration potential in LMICs (lack trees and are not urban == “restorable land”)',\n",
       "   'layer': 'user/myprofile/aFalseAsset',\n",
       "   'weight': 0,\n",
       "   'theme': 'constraint',\n",
       "   'subtheme': 'biophysical '},\n",
       "  {'name': 'terrestrial ecoregions',\n",
       "   'layer': 'user/myprofile/aFalseAsset',\n",
       "   'weight': 2,\n",
       "   'theme': 'constraint',\n",
       "   'subtheme': 'biophysical '},\n",
       "  {'name': 'Current land cover',\n",
       "   'layer': 'user/myprofile/aFalseAsset',\n",
       "   'weight': 1,\n",
       "   'theme': 'constraint',\n",
       "   'subtheme': 'land cover & management'},\n",
       "  {'name': 'protected areas',\n",
       "   'layer': 'user/custom/Layer14',\n",
       "   'weight': 4,\n",
       "   'theme': 'constraint',\n",
       "   'subtheme': 'land cover & management'},\n",
       "  {'name': 'slope',\n",
       "   'layer': 'user/myprofile/aFalseAsset',\n",
       "   'weight': 2,\n",
       "   'theme': 'constraint',\n",
       "   'subtheme': 'biophysical '},\n",
       "  {'name': 'elevation',\n",
       "   'layer': 'user/custom/Layer16',\n",
       "   'weight': 1,\n",
       "   'theme': 'constraint',\n",
       "   'subtheme': 'biophysical '},\n",
       "  {'name': 'water stress',\n",
       "   'layer': 'user/custom/Layer17',\n",
       "   'weight': 1,\n",
       "   'theme': 'constraint',\n",
       "   'subtheme': ''},\n",
       "  {'name': 'opportunity cost,cropland value',\n",
       "   'layer': 'user/custom/Layer18',\n",
       "   'weight': 5,\n",
       "   'theme': 'costs',\n",
       "   'subtheme': 'monetary'},\n",
       "  {'name': 'opportunity cost,pastureland value',\n",
       "   'layer': 'user/custom/Layer19',\n",
       "   'weight': 3,\n",
       "   'theme': 'costs',\n",
       "   'subtheme': 'monetary'},\n",
       "  {'name': 'establishment cost',\n",
       "   'layer': 'user/myprofile/aFalseAsset',\n",
       "   'weight': 4,\n",
       "   'theme': 'costs',\n",
       "   'subtheme': 'monetary'},\n",
       "  {'name': 'landscape variation in natural regeneration success',\n",
       "   'layer': 'user/custom/Layer21',\n",
       "   'weight': 4,\n",
       "   'theme': 'costs',\n",
       "   'subtheme': 'non-monetary'},\n",
       "  {'name': 'locations with declining population',\n",
       "   'layer': 'projects/john-ee-282116/assets/fao-restoration/features/population_decline_masked',\n",
       "   'weight': 0,\n",
       "   'theme': 'costs',\n",
       "   'subtheme': 'non-monetary'},\n",
       "  {'name': 'mortality/success rate of seedlings',\n",
       "   'layer': 'user/myprofile/aFalseAsset',\n",
       "   'weight': 2,\n",
       "   'theme': 'costs',\n",
       "   'subtheme': ''},\n",
       "  {'name': 'cost of planting',\n",
       "   'layer': 'user/myprofile/aFalseAsset',\n",
       "   'weight': 3,\n",
       "   'theme': 'costs',\n",
       "   'subtheme': ''},\n",
       "  {'name': 'Real interest rate',\n",
       "   'layer': 'user/custom/Layer25',\n",
       "   'weight': 0,\n",
       "   'theme': 'risks',\n",
       "   'subtheme': 'Economic indicators'},\n",
       "  {'name': 'Country risk premium',\n",
       "   'layer': 'user/custom/Layer26',\n",
       "   'weight': 3,\n",
       "   'theme': 'risks',\n",
       "   'subtheme': 'Economic indicators'},\n",
       "  {'name': 'Governance index',\n",
       "   'layer': 'user/custom/Layer27',\n",
       "   'weight': 4,\n",
       "   'theme': 'risks',\n",
       "   'subtheme': 'Institutional indicators'},\n",
       "  {'name': 'Rule of Law (downscaled to 1st level subnational administrative unit)',\n",
       "   'layer': 'user/custom/Layer28',\n",
       "   'weight': 2,\n",
       "   'theme': 'risks',\n",
       "   'subtheme': 'Institutional indicators'},\n",
       "  {'name': 'Perceived property security',\n",
       "   'layer': 'projects/john-ee-282116/assets/fao-restoration/features/national_OtherPropertySecure',\n",
       "   'weight': 0,\n",
       "   'theme': 'risks',\n",
       "   'subtheme': 'Institutional indicators'},\n",
       "  {'name': 'Land designated for or owned by IP and LC',\n",
       "   'layer': 'user/custom/Layer30',\n",
       "   'weight': 3,\n",
       "   'theme': 'risks',\n",
       "   'subtheme': 'Institutional indicators'},\n",
       "  {'name': 'forest cover change in 5 km buffer',\n",
       "   'layer': 'projects/john-ee-282116/assets/fao-restoration/features/DeforestRate',\n",
       "   'weight': 3,\n",
       "   'theme': 'risks',\n",
       "   'subtheme': 'Environmental indicators'},\n",
       "  {'name': 'climate risk',\n",
       "   'layer': 'user/custom/Layer32',\n",
       "   'weight': 0,\n",
       "   'theme': 'risks',\n",
       "   'subtheme': 'Environmental indicators'},\n",
       "  {'name': 'fires',\n",
       "   'layer': 'user/custom/Layer33',\n",
       "   'weight': 5,\n",
       "   'theme': 'risks',\n",
       "   'subtheme': 'biophysical '},\n",
       "  {'name': 'grazing',\n",
       "   'layer': 'user/myprofile/aFalseAsset',\n",
       "   'weight': 2,\n",
       "   'theme': 'risks',\n",
       "   'subtheme': 'land cover & management'},\n",
       "  {'name': 'native (e.g., for biodiversity) vs. nonative for increases in tree cover and livelihoods',\n",
       "   'layer': 'user/custom/Layer35',\n",
       "   'weight': 5,\n",
       "   'theme': 'other',\n",
       "   'subtheme': ''}]}"
      ]
     },
     "execution_count": 11,
     "metadata": {},
     "output_type": "execute_result"
    }
   ],
   "source": [
    "rp_layers_io.__dict__"
   ]
  },
  {
   "cell_type": "code",
   "execution_count": null,
   "metadata": {},
   "outputs": [],
   "source": []
  }
 ],
 "metadata": {
  "kernelspec": {
   "display_name": "Python 3",
   "language": "python",
   "name": "python3"
  },
  "language_info": {
   "codemirror_mode": {
    "name": "ipython",
    "version": 3
   },
   "file_extension": ".py",
   "mimetype": "text/x-python",
   "name": "python",
   "nbconvert_exporter": "python",
   "pygments_lexer": "ipython3",
   "version": "3.6.9"
  }
 },
 "nbformat": 4,
 "nbformat_minor": 4
}
