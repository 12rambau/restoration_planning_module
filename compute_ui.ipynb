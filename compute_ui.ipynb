{
 "cells": [
  {
   "cell_type": "code",
   "execution_count": null,
   "metadata": {},
   "outputs": [],
   "source": [
    "from sepal_ui import sepalwidgets as sw\n",
    "from sepal_ui import mapping as sm\n",
    "import ipyvuetify as v"
   ]
  },
  {
   "cell_type": "code",
   "execution_count": null,
   "metadata": {},
   "outputs": [],
   "source": [
    "id_ = \"compute_widget\"\n",
    "title = \"Select your inputs\"\n",
    "\n",
    "validation_btn = sw.Btn(\"Validate your data\")\n",
    "validation_output = sw.Alert()\n",
    "\n",
    "validation_type = v.RadioGroup(\n",
    "    row = True,\n",
    "    v_model = \"Questionnaire\",\n",
    "    children = [\n",
    "        v.Radio(label = \"Use global layers and default weights\", value=\"Questionnaire\"),\n",
    "        v.Radio(label = \"Use the manual layers and custom weights\", value=\"Manual layers\")\n",
    "    ]\n",
    ")\n",
    "\n",
    "rp_validation = sw.Tile(id_, title, [validation_type], btn=validation_btn , output = validation_output)"
   ]
  },
  {
   "cell_type": "code",
   "execution_count": null,
   "metadata": {},
   "outputs": [],
   "source": [
    "id_ = \"compute_widget\"\n",
    "compute_btn = sw.Btn(\"Launch computation\", disabled = True)\n",
    "\n",
    "compute_txt = sw.Markdown(\"**The launch button will be available after you check the input data in order to avoid wrong computations**\")\n",
    "\n",
    "rp_compute = sw.Tile(id_, '', [compute_txt], btn = compute_btn)"
   ]
  },
  {
   "cell_type": "code",
   "execution_count": null,
   "metadata": {},
   "outputs": [],
   "source": [
    "from functools import partial\n",
    "\n",
    "def on_click (widget, _, __, output, validation_type, compute_btn):\n",
    "    \n",
    "    \n",
    "    \n",
    "    compute_btn.disabled = False\n",
    "    \n",
    "    txt = f\"\"\"You are testing the restoration module.   \n",
    "    You decided to use the data from **{validation_type.v_model}**  \n",
    "    - **one** value  \n",
    "    - **two** value  \n",
    "    - etc  \n",
    "    \"\"\"\n",
    "    mkd = sw.Markdown(txt)\n",
    "    output.add_msg(mkd, 'warning')\n",
    "    \n",
    "validation_btn.on_event('click', partial(\n",
    "    on_click,\n",
    "    output = validation_output,\n",
    "    validation_type = validation_type,\n",
    "    compute_btn = compute_btn\n",
    "))\n",
    "    "
   ]
  },
  {
   "cell_type": "code",
   "execution_count": null,
   "metadata": {},
   "outputs": [],
   "source": [
    "id_ = \"dashboard_widget\"\n",
    "title = \"Restoration dashboard\"\n",
    "\n",
    "rp_dashboard = sw.Tile(id_, title, [''])"
   ]
  },
  {
   "cell_type": "code",
   "execution_count": null,
   "metadata": {},
   "outputs": [],
   "source": [
    "id_ = \"map_widget\"\n",
    "title = \"Result Map\"\n",
    "\n",
    "rp_result_map = sm.SepalMap(['CartoDB.Positron'])\n",
    "\n",
    "rp_map_tile = sw.Tile(id_, title, [rp_result_map])"
   ]
  },
  {
   "cell_type": "code",
   "execution_count": null,
   "metadata": {},
   "outputs": [],
   "source": [
    "rp_validation"
   ]
  },
  {
   "cell_type": "code",
   "execution_count": null,
   "metadata": {},
   "outputs": [],
   "source": [
    "rp_compute"
   ]
  },
  {
   "cell_type": "code",
   "execution_count": null,
   "metadata": {},
   "outputs": [],
   "source": [
    "rp_dashboard"
   ]
  },
  {
   "cell_type": "code",
   "execution_count": null,
   "metadata": {},
   "outputs": [],
   "source": [
    "rp_map_tile"
   ]
  },
  {
   "cell_type": "code",
   "execution_count": null,
   "metadata": {},
   "outputs": [],
   "source": []
  }
 ],
 "metadata": {
  "kernelspec": {
   "display_name": "Python 3",
   "language": "python",
   "name": "python3"
  },
  "language_info": {
   "codemirror_mode": {
    "name": "ipython",
    "version": 3
   },
   "file_extension": ".py",
   "mimetype": "text/x-python",
   "name": "python",
   "nbconvert_exporter": "python",
   "pygments_lexer": "ipython3",
   "version": "3.6.9"
  }
 },
 "nbformat": 4,
 "nbformat_minor": 4
}
