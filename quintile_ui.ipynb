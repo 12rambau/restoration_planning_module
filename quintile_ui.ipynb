{
 "cells": [
  {
   "cell_type": "code",
   "execution_count": null,
   "id": "norwegian-symphony",
   "metadata": {},
   "outputs": [],
   "source": [
    "from component import tile\n",
    "from component import io "
   ]
  },
  {
   "cell_type": "code",
   "execution_count": null,
   "id": "checked-casino",
   "metadata": {},
   "outputs": [],
   "source": [
    "rp_q_io = io.QuintileIo()"
   ]
  },
  {
   "cell_type": "code",
   "execution_count": null,
   "id": "skilled-german",
   "metadata": {},
   "outputs": [],
   "source": [
    "rp_q_tile = tile.QuintileTile(rp_q_io)"
   ]
  },
  {
   "cell_type": "code",
   "execution_count": null,
   "id": "rural-absorption",
   "metadata": {},
   "outputs": [],
   "source": [
    "rp_q_tile"
   ]
  },
  {
   "cell_type": "code",
   "execution_count": null,
   "id": "greatest-reconstruction",
   "metadata": {},
   "outputs": [],
   "source": [
    "#rp_q_tile.clip.fire_dialog('toto');"
   ]
  },
  {
   "cell_type": "code",
   "execution_count": null,
   "id": "still-regard",
   "metadata": {},
   "outputs": [],
   "source": []
  }
 ],
 "metadata": {
  "kernelspec": {
   "display_name": "Python 3",
   "language": "python",
   "name": "python3"
  },
  "language_info": {
   "codemirror_mode": {
    "name": "ipython",
    "version": 3
   },
   "file_extension": ".py",
   "mimetype": "text/x-python",
   "name": "python",
   "nbconvert_exporter": "python",
   "pygments_lexer": "ipython3",
   "version": "3.6.9"
  }
 },
 "nbformat": 4,
 "nbformat_minor": 5
}
