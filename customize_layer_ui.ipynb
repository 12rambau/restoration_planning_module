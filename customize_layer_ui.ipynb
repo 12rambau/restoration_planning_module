{
 "cells": [
  {
   "cell_type": "code",
   "execution_count": 1,
   "metadata": {},
   "outputs": [
    {
     "data": {
      "application/vnd.jupyter.widget-view+json": {
       "model_id": "0c444db51bab4982b89a737582355494",
       "version_major": 2,
       "version_minor": 0
      },
      "text/plain": [
       "HTML(value='\\n<style>\\n.leaflet-pane {\\n    z-index : 2 !important;\\n}\\n.leaflet-top, .leaflet-bottom {\\n    z…"
      ]
     },
     "metadata": {},
     "output_type": "display_data"
    },
    {
     "data": {
      "application/vnd.jupyter.widget-view+json": {
       "model_id": "0947b278c90e4d64978346e87a556b44",
       "version_major": 2,
       "version_minor": 0
      },
      "text/plain": [
       "ResizeTrigger()"
      ]
     },
     "metadata": {},
     "output_type": "display_data"
    }
   ],
   "source": [
    "from scripts.tile import *"
   ]
  },
  {
   "cell_type": "code",
   "execution_count": 2,
   "metadata": {},
   "outputs": [],
   "source": [
    "rp_layers_io = CustomizeLayerIo() "
   ]
  },
  {
   "cell_type": "code",
   "execution_count": 3,
   "metadata": {},
   "outputs": [],
   "source": [
    "rp_layers = CustomizeLayerTile(rp_layers_io)"
   ]
  },
  {
   "cell_type": "code",
   "execution_count": 4,
   "metadata": {},
   "outputs": [],
   "source": [
    "from scripts.default_layer_io import default_layer_io\n",
    "\n",
    "# apply the default layer_io \n",
    "def apply_default(widget, data, event):\n",
    "    \n",
    "    # toggle the btns\n",
    "    rp_layers.reset_to_default.toggle_loading()\n",
    "    rp_layers.reset_to_questionnaire.toggle_loading()\n",
    "    \n",
    "    # load a default layer_io \n",
    "    rp_layers.apply_values(default_layer_io.layer_list)\n",
    "    \n",
    "    # manually change the items\n",
    "    # for no reason the display items doesn't upload programatically\n",
    "    new_items = rp_layers.table.items.copy()\n",
    "    rp_layers.table.items = new_items\n",
    "    \n",
    "    # toggle the btns\n",
    "    rp_layers.reset_to_default.toggle_loading()\n",
    "    rp_layers.reset_to_questionnaire.toggle_loading()\n",
    "    \n",
    "    return \n",
    "\n",
    "rp_layers.reset_to_default.on_event('click', apply_default)"
   ]
  },
  {
   "cell_type": "code",
   "execution_count": 5,
   "metadata": {},
   "outputs": [],
   "source": [
    "# Use the answer to the questionnaire to feed the layer_list\n"
   ]
  },
  {
   "cell_type": "code",
   "execution_count": 6,
   "metadata": {},
   "outputs": [
    {
     "data": {
      "application/vnd.jupyter.widget-view+json": {
       "model_id": "a2fe59800f154cbc9743e0a64d3295f4",
       "version_major": 2,
       "version_minor": 0
      },
      "text/plain": [
       "CustomizeLayerTile(align_center=True, children=[Card(children=[Html(children=['Manual layer selection'], tag='…"
      ]
     },
     "metadata": {},
     "output_type": "display_data"
    }
   ],
   "source": [
    "rp_layers"
   ]
  },
  {
   "cell_type": "code",
   "execution_count": 9,
   "metadata": {},
   "outputs": [
    {
     "data": {
      "text/plain": [
       "[{'name': 'Fuelwood consumption',\n",
       "  'layer': 'user/myprofile/aFalseAsset',\n",
       "  'weight': 3},\n",
       " {'name': 'Net imports of forest products',\n",
       "  'layer': 'user/custom/Layer1',\n",
       "  'weight': 6},\n",
       " {'name': 'Woody biomass plantation growth rates',\n",
       "  'layer': 'user/myprofile/aFalseAsset',\n",
       "  'weight': 5},\n",
       " {'name': 'Accessibility to major cities',\n",
       "  'layer': 'user/custom/Layer3',\n",
       "  'weight': 0},\n",
       " {'name': 'Forest employment per ha of forest',\n",
       "  'layer': 'user/custom/Layer4',\n",
       "  'weight': 0},\n",
       " {'name': 'Aboveground carbon accumulation from natural regeneration ',\n",
       "  'layer': 'user/custom/Layer5',\n",
       "  'weight': 5},\n",
       " {'name': '100 - Biodiversity Intactness Index (BII)',\n",
       "  'layer': 'user/myprofile/aFalseAsset',\n",
       "  'weight': 5},\n",
       " {'name': 'Endangered and critically endangered species',\n",
       "  'layer': 'user/myprofile/aFalseAsset',\n",
       "  'weight': 4},\n",
       " {'name': 'Improved access to fuelwood for consumption by farmers - charcoal consumption for fuel and energy',\n",
       "  'layer': 'user/custom/Layer8',\n",
       "  'weight': 4},\n",
       " {'name': 'erosion prevention on steep slopes',\n",
       "  'layer': 'user/myprofile/aFalseAsset',\n",
       "  'weight': 1},\n",
       " {'name': 'targeted on degraded water towers which are sources of water for communities, livestock and wildlife (tourism backbone) downstream.',\n",
       "  'layer': 'user/custom/Layer10',\n",
       "  'weight': 1},\n",
       " {'name': 'restoration potential in LMICs (lack trees and are not urban == “restorable land”)',\n",
       "  'layer': 'user/custom/Layer11',\n",
       "  'weight': 3},\n",
       " {'name': 'terrestrial ecoregions',\n",
       "  'layer': 'user/custom/Layer12',\n",
       "  'weight': 2},\n",
       " {'name': 'Current land cover', 'layer': 'user/custom/Layer13', 'weight': 0},\n",
       " {'name': 'protected areas', 'layer': 'user/custom/Layer14', 'weight': 5},\n",
       " {'name': 'slope', 'layer': 'user/myprofile/aFalseAsset', 'weight': 5},\n",
       " {'name': 'elevation', 'layer': 'user/myprofile/aFalseAsset', 'weight': 0},\n",
       " {'name': 'water stress', 'layer': 'user/myprofile/aFalseAsset', 'weight': 2},\n",
       " {'name': 'opportunity cost,cropland value',\n",
       "  'layer': 'user/custom/Layer18',\n",
       "  'weight': 6},\n",
       " {'name': 'opportunity cost,pastureland value',\n",
       "  'layer': 'user/custom/Layer19',\n",
       "  'weight': 3},\n",
       " {'name': 'establishment cost',\n",
       "  'layer': 'user/myprofile/aFalseAsset',\n",
       "  'weight': 3},\n",
       " {'name': 'landscape variation in natural regeneration success',\n",
       "  'layer': 'user/myprofile/aFalseAsset',\n",
       "  'weight': 1},\n",
       " {'name': 'locations with declining population',\n",
       "  'layer': 'user/myprofile/aFalseAsset',\n",
       "  'weight': 3},\n",
       " {'name': 'mortality/success rate of seedlings',\n",
       "  'layer': 'user/custom/Layer23',\n",
       "  'weight': 6},\n",
       " {'name': 'cost of planting',\n",
       "  'layer': 'user/myprofile/aFalseAsset',\n",
       "  'weight': 4},\n",
       " {'name': 'Real interest rate',\n",
       "  'layer': 'user/myprofile/aFalseAsset',\n",
       "  'weight': 1},\n",
       " {'name': 'Country risk premium',\n",
       "  'layer': 'user/myprofile/aFalseAsset',\n",
       "  'weight': 0},\n",
       " {'name': 'Governance index',\n",
       "  'layer': 'user/myprofile/aFalseAsset',\n",
       "  'weight': 6},\n",
       " {'name': 'Rule of Law (downscaled to 1st level subnational administrative unit)',\n",
       "  'layer': 'user/myprofile/aFalseAsset',\n",
       "  'weight': 0},\n",
       " {'name': 'Perceived property security',\n",
       "  'layer': 'user/myprofile/aFalseAsset',\n",
       "  'weight': 3},\n",
       " {'name': 'Land designated for or owned by IP and LC',\n",
       "  'layer': 'user/myprofile/aFalseAsset',\n",
       "  'weight': 4},\n",
       " {'name': 'forest cover change in 5 km buffer',\n",
       "  'layer': 'user/custom/Layer31',\n",
       "  'weight': 1},\n",
       " {'name': 'climate risk', 'layer': 'user/myprofile/aFalseAsset', 'weight': 3},\n",
       " {'name': 'fires', 'layer': 'user/custom/Layer33', 'weight': 2},\n",
       " {'name': 'grazing', 'layer': 'user/myprofile/aFalseAsset', 'weight': 2},\n",
       " {'name': 'native (e.g., for biodiversity) vs. nonative for increases in tree cover and livelihoods',\n",
       "  'layer': 'user/custom/Layer35',\n",
       "  'weight': 6}]"
      ]
     },
     "execution_count": 9,
     "metadata": {},
     "output_type": "execute_result"
    }
   ],
   "source": [
    "rp_layers_io.layer_list"
   ]
  },
  {
   "cell_type": "code",
   "execution_count": 13,
   "metadata": {},
   "outputs": [],
   "source": [
    "rp_layers.table.items = toto"
   ]
  },
  {
   "cell_type": "code",
   "execution_count": 11,
   "metadata": {},
   "outputs": [],
   "source": [
    "toto = rp_layers.table.items"
   ]
  },
  {
   "cell_type": "code",
   "execution_count": 12,
   "metadata": {},
   "outputs": [
    {
     "data": {
      "text/plain": [
       "[{'theme': 'benefits',\n",
       "  'subtheme': 'wood production',\n",
       "  'name': 'Fuelwood consumption',\n",
       "  'weight': 3,\n",
       "  'layer': 'user/myprofile/aFalseAsset'},\n",
       " {'theme': 'benefits',\n",
       "  'subtheme': 'wood production',\n",
       "  'name': 'Net imports of forest products',\n",
       "  'weight': 6,\n",
       "  'layer': 'user/custom/Layer1'},\n",
       " {'theme': 'benefits',\n",
       "  'subtheme': 'wood production',\n",
       "  'name': 'Woody biomass plantation growth rates',\n",
       "  'weight': 5,\n",
       "  'layer': 'user/myprofile/aFalseAsset'},\n",
       " {'theme': 'benefits',\n",
       "  'subtheme': 'wood production',\n",
       "  'name': 'Accessibility to major cities',\n",
       "  'weight': 0,\n",
       "  'layer': 'user/custom/Layer3'},\n",
       " {'theme': 'benefits',\n",
       "  'subtheme': 'wood production',\n",
       "  'name': 'Forest employment per ha of forest',\n",
       "  'weight': 0,\n",
       "  'layer': 'user/custom/Layer4'},\n",
       " {'theme': 'benefits',\n",
       "  'subtheme': 'non-timber',\n",
       "  'name': 'Aboveground carbon accumulation from natural regeneration ',\n",
       "  'weight': 5,\n",
       "  'layer': 'user/custom/Layer5'},\n",
       " {'theme': 'benefits',\n",
       "  'subtheme': 'non-timber',\n",
       "  'name': '100 - Biodiversity Intactness Index (BII)',\n",
       "  'weight': 5,\n",
       "  'layer': 'user/myprofile/aFalseAsset'},\n",
       " {'theme': 'benefits',\n",
       "  'subtheme': 'non-timber',\n",
       "  'name': 'Endangered and critically endangered species',\n",
       "  'weight': 4,\n",
       "  'layer': 'user/myprofile/aFalseAsset'},\n",
       " {'theme': 'benefits',\n",
       "  'subtheme': 'Supporting livelihoods of local people',\n",
       "  'name': 'Improved access to fuelwood for consumption by farmers - charcoal consumption for fuel and energy',\n",
       "  'weight': 4,\n",
       "  'layer': 'user/custom/Layer8'},\n",
       " {'theme': 'benefits',\n",
       "  'subtheme': 'Supporting livelihoods of local people (lowland agriculture)',\n",
       "  'name': 'erosion prevention on steep slopes',\n",
       "  'weight': 1,\n",
       "  'layer': 'user/myprofile/aFalseAsset'},\n",
       " {'theme': 'benefits',\n",
       "  'subtheme': 'water quality',\n",
       "  'name': 'targeted on degraded water towers which are sources of water for communities, livestock and wildlife (tourism backbone) downstream.',\n",
       "  'weight': 1,\n",
       "  'layer': 'user/custom/Layer10'},\n",
       " {'theme': 'constraint',\n",
       "  'subtheme': 'biophysical ',\n",
       "  'name': 'restoration potential in LMICs (lack trees and are not urban == “restorable land”)',\n",
       "  'weight': 3,\n",
       "  'layer': 'user/custom/Layer11'},\n",
       " {'theme': 'constraint',\n",
       "  'subtheme': 'biophysical ',\n",
       "  'name': 'terrestrial ecoregions',\n",
       "  'weight': 2,\n",
       "  'layer': 'user/custom/Layer12'},\n",
       " {'theme': 'constraint',\n",
       "  'subtheme': 'land cover & management',\n",
       "  'name': 'Current land cover',\n",
       "  'weight': 0,\n",
       "  'layer': 'user/custom/Layer13'},\n",
       " {'theme': 'constraint',\n",
       "  'subtheme': 'land cover & management',\n",
       "  'name': 'protected areas',\n",
       "  'weight': 5,\n",
       "  'layer': 'user/custom/Layer14'},\n",
       " {'theme': 'constraint',\n",
       "  'subtheme': 'biophysical ',\n",
       "  'name': 'slope',\n",
       "  'weight': 5,\n",
       "  'layer': 'user/myprofile/aFalseAsset'},\n",
       " {'theme': 'constraint',\n",
       "  'subtheme': 'biophysical ',\n",
       "  'name': 'elevation',\n",
       "  'weight': 0,\n",
       "  'layer': 'user/myprofile/aFalseAsset'},\n",
       " {'theme': 'constraint',\n",
       "  'subtheme': '',\n",
       "  'name': 'water stress',\n",
       "  'weight': 2,\n",
       "  'layer': 'user/myprofile/aFalseAsset'},\n",
       " {'theme': 'costs',\n",
       "  'subtheme': 'monetary',\n",
       "  'name': 'opportunity cost,cropland value',\n",
       "  'weight': 6,\n",
       "  'layer': 'user/custom/Layer18'},\n",
       " {'theme': 'costs',\n",
       "  'subtheme': 'monetary',\n",
       "  'name': 'opportunity cost,pastureland value',\n",
       "  'weight': 3,\n",
       "  'layer': 'user/custom/Layer19'},\n",
       " {'theme': 'costs',\n",
       "  'subtheme': 'monetary',\n",
       "  'name': 'establishment cost',\n",
       "  'weight': 3,\n",
       "  'layer': 'user/myprofile/aFalseAsset'},\n",
       " {'theme': 'costs',\n",
       "  'subtheme': 'non-monetary',\n",
       "  'name': 'landscape variation in natural regeneration success',\n",
       "  'weight': 1,\n",
       "  'layer': 'user/myprofile/aFalseAsset'},\n",
       " {'theme': 'costs',\n",
       "  'subtheme': 'non-monetary',\n",
       "  'name': 'locations with declining population',\n",
       "  'weight': 3,\n",
       "  'layer': 'user/myprofile/aFalseAsset'},\n",
       " {'theme': 'costs',\n",
       "  'subtheme': '',\n",
       "  'name': 'mortality/success rate of seedlings',\n",
       "  'weight': 6,\n",
       "  'layer': 'user/custom/Layer23'},\n",
       " {'theme': 'costs',\n",
       "  'subtheme': '',\n",
       "  'name': 'cost of planting',\n",
       "  'weight': 4,\n",
       "  'layer': 'user/myprofile/aFalseAsset'},\n",
       " {'theme': 'risks',\n",
       "  'subtheme': 'Economic indicators',\n",
       "  'name': 'Real interest rate',\n",
       "  'weight': 1,\n",
       "  'layer': 'user/myprofile/aFalseAsset'},\n",
       " {'theme': 'risks',\n",
       "  'subtheme': 'Economic indicators',\n",
       "  'name': 'Country risk premium',\n",
       "  'weight': 0,\n",
       "  'layer': 'user/myprofile/aFalseAsset'},\n",
       " {'theme': 'risks',\n",
       "  'subtheme': 'Institutional indicators',\n",
       "  'name': 'Governance index',\n",
       "  'weight': 6,\n",
       "  'layer': 'user/myprofile/aFalseAsset'},\n",
       " {'theme': 'risks',\n",
       "  'subtheme': 'Institutional indicators',\n",
       "  'name': 'Rule of Law (downscaled to 1st level subnational administrative unit)',\n",
       "  'weight': 0,\n",
       "  'layer': 'user/myprofile/aFalseAsset'},\n",
       " {'theme': 'risks',\n",
       "  'subtheme': 'Institutional indicators',\n",
       "  'name': 'Perceived property security',\n",
       "  'weight': 3,\n",
       "  'layer': 'user/myprofile/aFalseAsset'},\n",
       " {'theme': 'risks',\n",
       "  'subtheme': 'Institutional indicators',\n",
       "  'name': 'Land designated for or owned by IP and LC',\n",
       "  'weight': 4,\n",
       "  'layer': 'user/myprofile/aFalseAsset'},\n",
       " {'theme': 'risks',\n",
       "  'subtheme': 'Environmental indicators',\n",
       "  'name': 'forest cover change in 5 km buffer',\n",
       "  'weight': 1,\n",
       "  'layer': 'user/custom/Layer31'},\n",
       " {'theme': 'risks',\n",
       "  'subtheme': 'Environmental indicators',\n",
       "  'name': 'climate risk',\n",
       "  'weight': 3,\n",
       "  'layer': 'user/myprofile/aFalseAsset'},\n",
       " {'theme': 'risks',\n",
       "  'subtheme': 'biophysical ',\n",
       "  'name': 'fires',\n",
       "  'weight': 2,\n",
       "  'layer': 'user/custom/Layer33'},\n",
       " {'theme': 'risks',\n",
       "  'subtheme': 'land cover & management',\n",
       "  'name': 'grazing',\n",
       "  'weight': 2,\n",
       "  'layer': 'user/myprofile/aFalseAsset'},\n",
       " {'theme': 'other',\n",
       "  'subtheme': '',\n",
       "  'name': 'native (e.g., for biodiversity) vs. nonative for increases in tree cover and livelihoods',\n",
       "  'weight': 6,\n",
       "  'layer': 'user/custom/Layer35'}]"
      ]
     },
     "execution_count": 12,
     "metadata": {},
     "output_type": "execute_result"
    }
   ],
   "source": [
    "toto"
   ]
  },
  {
   "cell_type": "code",
   "execution_count": null,
   "metadata": {},
   "outputs": [],
   "source": []
  }
 ],
 "metadata": {
  "kernelspec": {
   "display_name": "Python 3",
   "language": "python",
   "name": "python3"
  },
  "language_info": {
   "codemirror_mode": {
    "name": "ipython",
    "version": 3
   },
   "file_extension": ".py",
   "mimetype": "text/x-python",
   "name": "python",
   "nbconvert_exporter": "python",
   "pygments_lexer": "ipython3",
   "version": "3.6.9"
  }
 },
 "nbformat": 4,
 "nbformat_minor": 4
}
