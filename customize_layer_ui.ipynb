{
 "cells": [
  {
   "cell_type": "code",
   "execution_count": null,
   "metadata": {},
   "outputs": [],
   "source": [
    "from sepal_ui import sepalwidgets as sw\n",
    "import ipyvuetify as v"
   ]
  },
  {
   "cell_type": "code",
   "execution_count": null,
   "metadata": {},
   "outputs": [],
   "source": []
  },
  {
   "cell_type": "code",
   "execution_count": null,
   "metadata": {},
   "outputs": [],
   "source": [
    "factors = sw.Markdown(\"Layers selected for contraints and prioritization according to the questionnaire, custom layers specified in this tab\")\n",
    "\n",
    "\n",
    "\n",
    "layers = v.Select(\n",
    "    label = \"List of layers included in the weighted calculation for prioritization\",\n",
    "    items = [f\"layer {i}\" for i in range(5)],\n",
    "    multiple = True\n",
    ")\n",
    "\n",
    "map_weight1 = weight_slider(\"Maximum potential tree cover\")\n",
    "custom_input1 = v.Checkbox(label = \"Use a custom map input\", value=\"c_input_1\")\n",
    "custom_asset1 = v.TextField(\n",
    "    label=\"Path to asset\",\n",
    "    placeholder=\"user/asset/mycustommap\",\n",
    "    v_model = None\n",
    ")\n",
    "\n",
    "map_weight2 = weight_slider(\"Current tree cover\")\n",
    "map_weight3 = weight_slider(\"Land use\")\n",
    "map_weight4 = weight_slider(\"Protected areas\")\n",
    "map_weight5 = weight_slider(\"Deforestation\")\n",
    "\n",
    "id_ = \"manual_widget\"\n",
    "title = \"Manual layer selection\"\n",
    "\n",
    "\n",
    "rp_manual = sw.Tile(\n",
    "    id_, \n",
    "    title,\n",
    "    inputs = [factors, layers, map_weight1, custom_input1, custom_asset1, map_weight2, custom_input1, custom_asset1, map_weight3, custom_input1, custom_asset1, map_weight4, custom_input1, custom_asset1, map_weight5, custom_input1, custom_asset1]\n",
    ")\n",
    "\n",
    "rp_manual"
   ]
  },
  {
   "cell_type": "code",
   "execution_count": null,
   "metadata": {},
   "outputs": [],
   "source": []
  }
 ],
 "metadata": {
  "kernelspec": {
   "display_name": "Python 3",
   "language": "python",
   "name": "python3"
  },
  "language_info": {
   "codemirror_mode": {
    "name": "ipython",
    "version": 3
   },
   "file_extension": ".py",
   "mimetype": "text/x-python",
   "name": "python",
   "nbconvert_exporter": "python",
   "pygments_lexer": "ipython3",
   "version": "3.6.9"
  }
 },
 "nbformat": 4,
 "nbformat_minor": 4
}
