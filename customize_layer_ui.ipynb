{
 "cells": [
  {
   "cell_type": "code",
   "execution_count": null,
   "metadata": {},
   "outputs": [],
   "source": [
    "from scripts.tile import *"
   ]
  },
  {
   "cell_type": "code",
   "execution_count": null,
   "metadata": {},
   "outputs": [],
   "source": [
    "rp_layers_io = CustomizeLayerIo() "
   ]
  },
  {
   "cell_type": "code",
   "execution_count": null,
   "metadata": {},
   "outputs": [],
   "source": [
    "rp_layers = CustomizeLayerTile(rp_layers_io)"
   ]
  },
  {
   "cell_type": "code",
   "execution_count": null,
   "metadata": {},
   "outputs": [],
   "source": [
    "from scripts.default_layer_io import default_layer_io\n",
    "\n",
    "# apply the default layer_io \n",
    "def apply_default(widget, data, event):\n",
    "    \n",
    "    # toggle the btns\n",
    "    rp_layers.reset_to_default.toggle_loading()\n",
    "    rp_layers.reset_to_questionnaire.toggle_loading()\n",
    "    \n",
    "    # load a default layer_io \n",
    "    rp_layers.apply_values(default_layer_io.layer_list)\n",
    "    \n",
    "    # manually change the items\n",
    "    # for no reason the display items doesn't upload programatically\n",
    "    new_items = rp_layers.table.items.copy()\n",
    "    rp_layers.table.items = new_items\n",
    "    \n",
    "    # toggle the btns\n",
    "    rp_layers.reset_to_default.toggle_loading()\n",
    "    rp_layers.reset_to_questionnaire.toggle_loading()\n",
    "    \n",
    "    return \n",
    "\n",
    "rp_layers.reset_to_default.on_event('click', apply_default)"
   ]
  },
  {
   "cell_type": "code",
   "execution_count": null,
   "metadata": {},
   "outputs": [],
   "source": [
    "# debug \n",
    "from scripts.default_questionnaire_io import default_questionnaire_io\n",
    "from scripts.compute_questionnaire import compute_questionnaire\n",
    "\n",
    "# Use the answer to the questionnaire to feed the layer_list \n",
    "def apply_questionnaire(widget, data, event):\n",
    "    \n",
    "    # toggle the btns\n",
    "    rp_layers.reset_to_default.toggle_loading()\n",
    "    rp_layers.reset_to_questionnaire.toggle_loading()\n",
    "    \n",
    "    # process the questionnaire to produce a layer list \n",
    "    layers_values = compute_questionnaire(default_questionnaire_io) # will use rp_questionnaire_io in prod\n",
    "    rp_layers.apply_values(layers_values)\n",
    "    \n",
    "    # manually change the items\n",
    "    # for no reason the display items doesn't upload programatically\n",
    "    new_items = rp_layers.table.items.copy()\n",
    "    rp_layers.table.items = new_items\n",
    "    \n",
    "    # toggle the btns\n",
    "    rp_layers.reset_to_default.toggle_loading()\n",
    "    rp_layers.reset_to_questionnaire.toggle_loading()\n",
    "    \n",
    "    return \n",
    "\n",
    "rp_layers.reset_to_questionnaire.on_event('click', apply_questionnaire)\n"
   ]
  },
  {
   "cell_type": "code",
   "execution_count": null,
   "metadata": {},
   "outputs": [],
   "source": [
    "rp_layers"
   ]
  },
  {
   "cell_type": "code",
   "execution_count": null,
   "metadata": {},
   "outputs": [],
   "source": []
  }
 ],
 "metadata": {
  "kernelspec": {
   "display_name": "Python 3",
   "language": "python",
   "name": "python3"
  },
  "language_info": {
   "codemirror_mode": {
    "name": "ipython",
    "version": 3
   },
   "file_extension": ".py",
   "mimetype": "text/x-python",
   "name": "python",
   "nbconvert_exporter": "python",
   "pygments_lexer": "ipython3",
   "version": "3.6.9"
  }
 },
 "nbformat": 4,
 "nbformat_minor": 4
}
