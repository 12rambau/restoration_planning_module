{
 "cells": [
  {
   "cell_type": "code",
   "execution_count": null,
   "metadata": {},
   "outputs": [],
   "source": [
    "%%capture\n",
    "import sys\n",
    "!{sys.executable} -m pip install --upgrade sepal-ui"
   ]
  },
  {
   "cell_type": "code",
   "execution_count": null,
   "metadata": {},
   "outputs": [],
   "source": [
    "from sepal_ui import sepalwidgets as sw"
   ]
  },
  {
   "cell_type": "code",
   "execution_count": null,
   "metadata": {},
   "outputs": [],
   "source": [
    "#create an appBar \n",
    "rp_appBar = sw.AppBar('Restoration planning module')"
   ]
  },
  {
   "cell_type": "code",
   "execution_count": null,
   "metadata": {},
   "outputs": [],
   "source": [
    "#create a footer \n",
    "rp_footer = sw.Footer()"
   ]
  },
  {
   "cell_type": "code",
   "execution_count": null,
   "metadata": {},
   "outputs": [],
   "source": [
    "#add tiles \n",
    "%run 'aoi_selector_ui.ipynb'\n",
    "%run 'questionnaire_ui.ipynb'\n",
    "%run 'manual_selection_ui.ipynb'\n",
    "%run 'compute_ui.ipynb'\n",
    "\n",
    "rp_content = [\n",
    "    rp_aoi,\n",
    "    process_tile,\n",
    "    rp_manual,\n",
    "    rp_validation,\n",
    "    rp_compute,\n",
    "    rp_dashboard,\n",
    "    rp_map_tile\n",
    "]"
   ]
  },
  {
   "cell_type": "code",
   "execution_count": null,
   "metadata": {},
   "outputs": [],
   "source": [
    "#create a drawer \n",
    "item_aoi = sw.DrawerItem('AOI selection', 'mdi-map-marker-check', card=\"aoi_widget\").display_tile(rp_content)\n",
    "item_quest = sw.DrawerItem('Questionnaire', 'mdi-file-question', card=\"questionnaire_widget\").display_tile(rp_content)\n",
    "item_manual = sw.DrawerItem('Manual selection', 'mdi-pencil', card=\"manual_widget\").display_tile(rp_content)\n",
    "item_compute = sw.DrawerItem('Compute', 'mdi-cogs', card=\"compute_widget\").display_tile(rp_content)\n",
    "item_dashboard = sw.DrawerItem('Restoration dashboard', 'mdi-view-dashboard', card=\"dashboard_widget\").display_tile(rp_content)\n",
    "item_map = sw.DrawerItem('Result map', 'mdi-map', card=\"map_widget\").display_tile(rp_content)\n",
    "\n",
    "code_link = \"https://github.com/12rambau/restoration_planning_module\"\n",
    "wiki_link = \"https://github.com/12rambau/restoration_planning_module/blob/master/README.md\"\n",
    "issue_link = \"https://github.com/12rambau/restoration_planning_module/issues/new\"\n",
    "\n",
    "items = [\n",
    "    item_aoi,\n",
    "    item_quest,\n",
    "    item_manual,\n",
    "    item_compute,\n",
    "    item_dashboard,\n",
    "    item_map\n",
    "]\n",
    "\n",
    "rp_drawer = sw.NavDrawer(items, code = code_link, wiki = wiki_link, issue = issue_link).display_drawer(rp_appBar.toggle_button)"
   ]
  },
  {
   "cell_type": "code",
   "execution_count": null,
   "metadata": {},
   "outputs": [],
   "source": [
    "#build the app \n",
    "rp_app = sw.App(\n",
    "    tiles=rp_content, \n",
    "    appBar=rp_appBar, \n",
    "    footer=rp_footer, \n",
    "    navDrawer=rp_drawer\n",
    ").show_tile('aoi_widget')"
   ]
  },
  {
   "cell_type": "code",
   "execution_count": null,
   "metadata": {},
   "outputs": [],
   "source": [
    "#display the app\n",
    "rp_app"
   ]
  },
  {
   "cell_type": "code",
   "execution_count": null,
   "metadata": {},
   "outputs": [],
   "source": []
  }
 ],
 "metadata": {
  "kernelspec": {
   "display_name": "Python 3",
   "language": "python",
   "name": "python3"
  },
  "language_info": {
   "codemirror_mode": {
    "name": "ipython",
    "version": 3
   },
   "file_extension": ".py",
   "mimetype": "text/x-python",
   "name": "python",
   "nbconvert_exporter": "python",
   "pygments_lexer": "ipython3",
   "version": "3.6.9"
  }
 },
 "nbformat": 4,
 "nbformat_minor": 4
}
