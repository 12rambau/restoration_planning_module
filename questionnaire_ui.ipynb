{
 "cells": [
  {
   "cell_type": "code",
   "execution_count": null,
   "metadata": {},
   "outputs": [],
   "source": [
    "import ipyvuetify as v\n",
    "from sepal_ui import sepalwidgets as sw\n",
    "from scripts.tile import *"
   ]
  },
  {
   "cell_type": "code",
   "execution_count": null,
   "metadata": {},
   "outputs": [],
   "source": []
  },
  {
   "cell_type": "code",
   "execution_count": null,
   "metadata": {},
   "outputs": [],
   "source": [
    "\n",
    "    "
   ]
  },
  {
   "cell_type": "code",
   "execution_count": null,
   "metadata": {},
   "outputs": [],
   "source": [
    "        "
   ]
  },
  {
   "cell_type": "code",
   "execution_count": null,
   "metadata": {},
   "outputs": [],
   "source": []
  },
  {
   "cell_type": "code",
   "execution_count": null,
   "metadata": {},
   "outputs": [],
   "source": []
  },
  {
   "cell_type": "code",
   "execution_count": null,
   "metadata": {},
   "outputs": [],
   "source": [
    "step2_content = v.StepperContent(\n",
    "    key=1,\n",
    "    step=1, \n",
    "    children=[step2()]\n",
    ")  \n",
    "\n",
    "step3_content = v.StepperContent(\n",
    "    key=2,\n",
    "    step=2, \n",
    "    children=[step3()]\n",
    ")\n",
    "\n",
    "step4_content = v.StepperContent(\n",
    "    key=3,\n",
    "    step=3, \n",
    "    children=[step4()]\n",
    ")\n",
    "\n",
    "step5_content = v.StepperContent(\n",
    "    key=4,\n",
    "    step=4, \n",
    "    children=[step5()]\n",
    ")\n",
    "\n",
    "stepper_children = [\n",
    "    v.StepperStep(\n",
    "        key=1,\n",
    "        complete=False,\n",
    "        step=1,\n",
    "        editable=True,\n",
    "        children=[\"Constraints\"]\n",
    "    ),\n",
    "    v.Divider(),\n",
    "    v.StepperStep(\n",
    "        key=2,\n",
    "        complete=False,\n",
    "        step=2,\n",
    "        editable=True,\n",
    "        children=[\"Restoration potential and land use\"]\n",
    "    ),\n",
    "    v.Divider(),\n",
    "    v.StepperStep(\n",
    "        key=3,\n",
    "        complete=False,\n",
    "        step=3,\n",
    "        editable=True,\n",
    "        children=[\"Restoration goals\"]\n",
    "    ),\n",
    "    v.Divider(),\n",
    "    v.StepperStep(\n",
    "        key=4,\n",
    "        complete=False,\n",
    "        step=4,\n",
    "        editable=True,\n",
    "        children=[\"Restoration priorities\"]\n",
    "    ),\n",
    "]\n",
    "\n",
    "stepper_header = v.StepperHeader(\n",
    "    children=stepper_children\n",
    ")\n",
    "\n",
    "aoi_content = v.Stepper(\n",
    "        class_=\"mt-2\",\n",
    "         children=[\n",
    "             stepper_header,\n",
    "             v.StepperItems(\n",
    "                 children=[\n",
    "                     step2_content,\n",
    "                     step3_content,\n",
    "                     step4_content,\n",
    "                     step5_content\n",
    "                 ]\n",
    "             )\n",
    "         ]\n",
    ")"
   ]
  },
  {
   "cell_type": "code",
   "execution_count": null,
   "metadata": {
    "scrolled": false
   },
   "outputs": [],
   "source": [
    "title = \"Questionnaire Identifying Restoration Objective & Goals\"\n",
    "id_ = \"questionnaire_widget\"\n",
    "process_tile = sw.Tile(id_, title, inputs=[aoi_content])\n",
    "process_tile"
   ]
  },
  {
   "cell_type": "code",
   "execution_count": null,
   "metadata": {},
   "outputs": [],
   "source": []
  }
 ],
 "metadata": {
  "kernelspec": {
   "display_name": "Python 3",
   "language": "python",
   "name": "python3"
  },
  "language_info": {
   "codemirror_mode": {
    "name": "ipython",
    "version": 3
   },
   "file_extension": ".py",
   "mimetype": "text/x-python",
   "name": "python",
   "nbconvert_exporter": "python",
   "pygments_lexer": "ipython3",
   "version": "3.6.9"
  }
 },
 "nbformat": 4,
 "nbformat_minor": 4
}
