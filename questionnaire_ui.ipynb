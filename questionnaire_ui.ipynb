{
 "cells": [
  {
   "cell_type": "code",
   "execution_count": 1,
   "metadata": {},
   "outputs": [
    {
     "data": {
      "application/vnd.jupyter.widget-view+json": {
       "model_id": "a23df80dac5e4337af609aa1d8f8d4f9",
       "version_major": 2,
       "version_minor": 0
      },
      "text/plain": [
       "HTML(value='\\n<style>\\n.leaflet-pane {\\n    z-index : 2 !important;\\n}\\n.leaflet-top, .leaflet-bottom {\\n    z…"
      ]
     },
     "metadata": {},
     "output_type": "display_data"
    },
    {
     "data": {
      "application/vnd.jupyter.widget-view+json": {
       "model_id": "a6b2f93430204ca9a534dfe2c7e2ff30",
       "version_major": 2,
       "version_minor": 0
      },
      "text/plain": [
       "ResizeTrigger()"
      ]
     },
     "metadata": {},
     "output_type": "display_data"
    }
   ],
   "source": [
    "import ipyvuetify as v\n",
    "from sepal_ui import sepalwidgets as sw\n",
    "from scripts.tile import *"
   ]
  },
  {
   "cell_type": "code",
   "execution_count": null,
   "metadata": {},
   "outputs": [],
   "source": []
  },
  {
   "cell_type": "code",
   "execution_count": 2,
   "metadata": {},
   "outputs": [],
   "source": [
    "class step3(sw.Tile):\n",
    "    \n",
    "    def __init__(self, **kwargs):\n",
    "        \n",
    "        title = \"Restoration potential and land use\" \n",
    "        id_ = 'nested_widget'\n",
    "        \n",
    "        txt = \"\"\"Max % tree cover in land use classes  \n",
    "        \"\"\"\n",
    "        tile_txt = sw.Markdown(txt)\n",
    "        \n",
    "\n",
    "        land_use = v.Select(\n",
    "            label = \"Which land uses allow restoration?\",\n",
    "            items = [\n",
    "                \"Agriculture\",\n",
    "                \"Protected Areas\",\n",
    "                \"Rangeland\",\n",
    "                \"Grassland\"\n",
    "\n",
    "            ],\n",
    "            multiple = True\n",
    "\n",
    "        )\n",
    "        \n",
    "        pcnt_treecover = v.Slider(label=f'Maximum allowable percent tree cover in {land_use.items}' )\n",
    "\n",
    "\n",
    "    \n",
    "        super().__init__(\n",
    "            id_, \n",
    "            title, \n",
    "            inputs = [\n",
    "                tile_txt, \n",
    "                land_use,\n",
    "                pcnt_treecover\n",
    "                \n",
    "            ],\n",
    "            **kwargs\n",
    "        )\n",
    "        self.children[0].elevation = 0\n",
    "    "
   ]
  },
  {
   "cell_type": "code",
   "execution_count": 3,
   "metadata": {},
   "outputs": [],
   "source": [
    "class step4(sw.Tile):\n",
    "    \n",
    "    def __init__(self, **kwargs):\n",
    "        \n",
    "        title = \"Restoration goals\"\n",
    "        id_ = \"nested_widget\"\n",
    "        \n",
    "        goals = [\n",
    "            'Enhancement of existing areas',\n",
    "            'Increase the forest cover',\n",
    "            'Reflect relevant national regulations',\n",
    "            'Achievement of international commitments',\n",
    "            'Improve connectivity - landscape biodiversity'\n",
    "        ]\n",
    "        \n",
    "        select = v.Select(\n",
    "            label = \"restoration goals\",\n",
    "            items = goals,\n",
    "            V_model = None\n",
    "        )\n",
    "        \n",
    "        super().__init__(\n",
    "            id_, \n",
    "            title, \n",
    "            inputs = [select],\n",
    "            **kwargs\n",
    "        )\n",
    "        self.children[0].elevation = 0\n",
    "        "
   ]
  },
  {
   "cell_type": "code",
   "execution_count": 4,
   "metadata": {},
   "outputs": [],
   "source": [
    "class satisfaction_slider(v.Slider):\n",
    "    \n",
    "    _labels = [\n",
    "        'no importance',\n",
    "        'low importance',\n",
    "        'neutral',\n",
    "        'important',\n",
    "        'very important',\n",
    "    ]\n",
    "        \n",
    "    _colors = [\n",
    "        'red',\n",
    "        'orange',\n",
    "        'yellow accent-3',\n",
    "        'light-green',\n",
    "        'green'\n",
    "    ]\n",
    "    \n",
    "    def __init__(self, label, **kwargs):\n",
    "        \n",
    "        super().__init__(\n",
    "            label = label,\n",
    "            max = 4,\n",
    "            min = 0,\n",
    "            #step = 1,\n",
    "            #ticks = \"always\",\n",
    "            #tick_size = 4,\n",
    "            track_color = 'grey',\n",
    "            thumb_label = self._labels[4],\n",
    "            color = self._colors[4],\n",
    "            v_model = 4\n",
    "        )\n",
    "        \n",
    "        self.observe(self.on_change, 'v_model')\n",
    "        \n",
    "    def on_change(self, change):\n",
    "        self.color = self._colors[change['new']]\n",
    "        self.thumb_label = self._labels[change['new']]"
   ]
  },
  {
   "cell_type": "code",
   "execution_count": 5,
   "metadata": {},
   "outputs": [],
   "source": [
    "class step5 (sw.Tile):\n",
    "    \n",
    "    def __init__(self, **kwargs):\n",
    "        \n",
    "        title = \"Restoration priorities\"\n",
    "        id_ = \"nested_widget\"\n",
    "        \n",
    "        super().__init__(\n",
    "            id_, \n",
    "            title, \n",
    "            inputs = [\n",
    "                satisfaction_slider('Production Forest'),\n",
    "                satisfaction_slider(' Protected Area'),\n",
    "                satisfaction_slider('Community Foresty'),\n",
    "                satisfaction_slider('Community Protected Area'),\n",
    "                satisfaction_slider('Biodiversity conservation corridor'),\n",
    "                satisfaction_slider('Other private land or public land')\n",
    "            ],\n",
    "            **kwargs\n",
    "        )\n",
    "        self.children[0].elevation = 0"
   ]
  },
  {
   "cell_type": "code",
   "execution_count": 6,
   "metadata": {},
   "outputs": [
    {
     "ename": "NameError",
     "evalue": "name 'step2' is not defined",
     "output_type": "error",
     "traceback": [
      "\u001b[0;31m---------------------------------------------------------------------------\u001b[0m",
      "\u001b[0;31mNameError\u001b[0m                                 Traceback (most recent call last)",
      "\u001b[0;32m<ipython-input-6-5811546a03f4>\u001b[0m in \u001b[0;36m<module>\u001b[0;34m\u001b[0m\n\u001b[1;32m      2\u001b[0m     \u001b[0mkey\u001b[0m\u001b[0;34m=\u001b[0m\u001b[0;36m1\u001b[0m\u001b[0;34m,\u001b[0m\u001b[0;34m\u001b[0m\u001b[0;34m\u001b[0m\u001b[0m\n\u001b[1;32m      3\u001b[0m     \u001b[0mstep\u001b[0m\u001b[0;34m=\u001b[0m\u001b[0;36m1\u001b[0m\u001b[0;34m,\u001b[0m\u001b[0;34m\u001b[0m\u001b[0;34m\u001b[0m\u001b[0m\n\u001b[0;32m----> 4\u001b[0;31m     \u001b[0mchildren\u001b[0m\u001b[0;34m=\u001b[0m\u001b[0;34m[\u001b[0m\u001b[0mstep2\u001b[0m\u001b[0;34m(\u001b[0m\u001b[0;34m)\u001b[0m\u001b[0;34m]\u001b[0m\u001b[0;34m\u001b[0m\u001b[0;34m\u001b[0m\u001b[0m\n\u001b[0m\u001b[1;32m      5\u001b[0m )  \n\u001b[1;32m      6\u001b[0m \u001b[0;34m\u001b[0m\u001b[0m\n",
      "\u001b[0;31mNameError\u001b[0m: name 'step2' is not defined"
     ]
    }
   ],
   "source": [
    "step2_content = v.StepperContent(\n",
    "    key=1,\n",
    "    step=1, \n",
    "    children=[step2()]\n",
    ")  \n",
    "\n",
    "step3_content = v.StepperContent(\n",
    "    key=2,\n",
    "    step=2, \n",
    "    children=[step3()]\n",
    ")\n",
    "\n",
    "step4_content = v.StepperContent(\n",
    "    key=3,\n",
    "    step=3, \n",
    "    children=[step4()]\n",
    ")\n",
    "\n",
    "step5_content = v.StepperContent(\n",
    "    key=4,\n",
    "    step=4, \n",
    "    children=[step5()]\n",
    ")\n",
    "\n",
    "stepper_children = [\n",
    "    v.StepperStep(\n",
    "        key=1,\n",
    "        complete=False,\n",
    "        step=1,\n",
    "        editable=True,\n",
    "        children=[\"Constraints\"]\n",
    "    ),\n",
    "    v.Divider(),\n",
    "    v.StepperStep(\n",
    "        key=2,\n",
    "        complete=False,\n",
    "        step=2,\n",
    "        editable=True,\n",
    "        children=[\"Restoration potential and land use\"]\n",
    "    ),\n",
    "    v.Divider(),\n",
    "    v.StepperStep(\n",
    "        key=3,\n",
    "        complete=False,\n",
    "        step=3,\n",
    "        editable=True,\n",
    "        children=[\"Restoration goals\"]\n",
    "    ),\n",
    "    v.Divider(),\n",
    "    v.StepperStep(\n",
    "        key=4,\n",
    "        complete=False,\n",
    "        step=4,\n",
    "        editable=True,\n",
    "        children=[\"Restoration priorities\"]\n",
    "    ),\n",
    "]\n",
    "\n",
    "stepper_header = v.StepperHeader(\n",
    "    children=stepper_children\n",
    ")\n",
    "\n",
    "aoi_content = v.Stepper(\n",
    "        class_=\"mt-2\",\n",
    "         children=[\n",
    "             stepper_header,\n",
    "             v.StepperItems(\n",
    "                 children=[\n",
    "                     step2_content,\n",
    "                     step3_content,\n",
    "                     step4_content,\n",
    "                     step5_content\n",
    "                 ]\n",
    "             )\n",
    "         ]\n",
    ")"
   ]
  },
  {
   "cell_type": "code",
   "execution_count": null,
   "metadata": {
    "scrolled": false
   },
   "outputs": [],
   "source": [
    "title = \"Questionnaire Identifying Restoration Objective & Goals\"\n",
    "id_ = \"questionnaire_widget\"\n",
    "process_tile = sw.Tile(id_, title, inputs=[aoi_content])\n",
    "process_tile"
   ]
  },
  {
   "cell_type": "code",
   "execution_count": null,
   "metadata": {},
   "outputs": [],
   "source": []
  }
 ],
 "metadata": {
  "kernelspec": {
   "display_name": "Python 3",
   "language": "python",
   "name": "python3"
  },
  "language_info": {
   "codemirror_mode": {
    "name": "ipython",
    "version": 3
   },
   "file_extension": ".py",
   "mimetype": "text/x-python",
   "name": "python",
   "nbconvert_exporter": "python",
   "pygments_lexer": "ipython3",
   "version": "3.6.9"
  }
 },
 "nbformat": 4,
 "nbformat_minor": 4
}
